{
 "cells": [
  {
   "cell_type": "markdown",
   "metadata": {},
   "source": [
    "---- Imports ----"
   ]
  },
  {
   "cell_type": "code",
   "execution_count": 1,
   "metadata": {
    "collapsed": true
   },
   "outputs": [],
   "source": [
    "# Libraries to be used\n",
    "import sys\n",
    "#des-iPython sys.path.append('../include')\n",
    "#des-iPython sys.path.append('../src')\n",
    "sys.path.append('../../Blackboard/src') #debug-iPython"
   ]
  },
  {
   "cell_type": "code",
   "execution_count": 2,
   "metadata": {
    "collapsed": false
   },
   "outputs": [],
   "source": [
    "# The standard libraries used in the vision system\n",
    "from abc import ABCMeta, abstractmethod # Used to create abstract classes\n",
    "from threading import Thread, Condition, Lock# Used to create classes with thread functions"
   ]
  },
  {
   "cell_type": "code",
   "execution_count": 3,
   "metadata": {
    "collapsed": false
   },
   "outputs": [
    {
     "name": "stdout",
     "output_type": "stream",
     "text": [
      "BasicClass - Opencv Version: 3.2.0-dev\n"
     ]
    }
   ],
   "source": [
    "# Used class developed by RoboFEI-HT\n",
    "from BasicClass import * # \n",
    "from Blackboard import * # \n",
    "from VisionException import * # Used to handle exceptions\n",
    "#ini-iPython\n",
    "class test:\n",
    "    camera = True\n",
    "_args = test()\n",
    "#end-iPython"
   ]
  },
  {
   "cell_type": "markdown",
   "metadata": {},
   "source": [
    "# Basic Class - Thread\n",
    "Class that implements similar functions between classes used thread.\n",
    "doxygen-iPython"
   ]
  },
  {
   "cell_type": "code",
   "execution_count": 4,
   "metadata": {
    "collapsed": true
   },
   "outputs": [],
   "source": [
    "#des-iPython class BasicThread(BasicClass, Thread):\n",
    "#ini-tab -> Iniciando código classe\n",
    "#des-iPython __metaclass__ = ABCMeta"
   ]
  },
  {
   "cell_type": "code",
   "execution_count": 5,
   "metadata": {
    "collapsed": true
   },
   "outputs": [],
   "source": [
    "#ini-iPython - Lista de funções\n",
    "\n",
    "#self-iPython _pause\n",
    "#self-iPython _resume\n",
    "\n",
    "#end-iPython\n"
   ]
  },
  {
   "cell_type": "markdown",
   "metadata": {},
   "source": [
    "---- Variables ----"
   ]
  },
  {
   "cell_type": "markdown",
   "metadata": {},
   "source": [
    "# bkb\n",
    "Protected variable responsible for communication with shared memory (blackboard).\n",
    "doxygen-iPython"
   ]
  },
  {
   "cell_type": "code",
   "execution_count": 6,
   "metadata": {
    "collapsed": false
   },
   "outputs": [],
   "source": [
    "_bkb = None #self-iPython _bkb"
   ]
  },
  {
   "cell_type": "markdown",
   "metadata": {},
   "source": [
    "# running\n",
    "doxygen-iPython"
   ]
  },
  {
   "cell_type": "code",
   "execution_count": 7,
   "metadata": {
    "collapsed": false
   },
   "outputs": [],
   "source": [
    "_running = False #self-iPython _running"
   ]
  },
  {
   "cell_type": "markdown",
   "metadata": {},
   "source": [
    "# pausethread\n",
    "doxygen-iPython"
   ]
  },
  {
   "cell_type": "code",
   "execution_count": 8,
   "metadata": {
    "collapsed": false
   },
   "outputs": [],
   "source": [
    "_pausethread = None #self-iPython _pausethread"
   ]
  },
  {
   "cell_type": "markdown",
   "metadata": {},
   "source": [
    "# waitthread\n",
    "doxygen-iPython"
   ]
  },
  {
   "cell_type": "code",
   "execution_count": 19,
   "metadata": {
    "collapsed": false
   },
   "outputs": [],
   "source": [
    "waitthread = None #self-iPython waitthread"
   ]
  },
  {
   "cell_type": "markdown",
   "metadata": {},
   "source": [
    "# Constructor Class\n",
    "doxygen-iPython"
   ]
  },
  {
   "cell_type": "code",
   "execution_count": 9,
   "metadata": {
    "collapsed": false
   },
   "outputs": [
    {
     "name": "stdout",
     "output_type": "stream",
     "text": [
      "Instantiating Basic Thread\n",
      "Tem não\n"
     ]
    }
   ],
   "source": [
    "#des-iPython @abstractmethod\n",
    "#des-iPython def __init__(self, arg, name = None, func = None):\n",
    "#ini-tab -> Criando construtor\n",
    "name = None; func = None #debug-iPython\n",
    "print 'Instantiating Basic Thread' #debug-iPython\n",
    "\n",
    "#des-iPython Thread.__init__(self)\n",
    "\n",
    "if name != None and func != None:\n",
    "    #edes-iPython super(BasicThread, self).__init__(arg, name, func)\n",
    "    print \"Tem sim\"\n",
    "else:\n",
    "    #edes-iPython super(BasicThread, self).__init__(arg)\n",
    "    print \"Tem não\"\n",
    "\n",
    "#des-iPython _bkb = Blackboard( )\n",
    "\n",
    "#des-iPython _pausethread = Condition(Lock())\n",
    "#des-iPython waitthread = Condition(Lock())\n",
    "\n",
    "#des-iPython waitthread.acquire()\n",
    "\n",
    "#end-tab -> Finalizando construtor"
   ]
  },
  {
   "cell_type": "code",
   "execution_count": 10,
   "metadata": {
    "collapsed": true
   },
   "outputs": [],
   "source": [
    "#ini-iPython"
   ]
  },
  {
   "cell_type": "markdown",
   "metadata": {},
   "source": [
    "## Teste Construtor"
   ]
  },
  {
   "cell_type": "code",
   "execution_count": 11,
   "metadata": {
    "collapsed": true
   },
   "outputs": [],
   "source": [
    "#end-iPython"
   ]
  },
  {
   "cell_type": "markdown",
   "metadata": {},
   "source": [
    "# pause\n",
    "doxygen-iPython"
   ]
  },
  {
   "cell_type": "code",
   "execution_count": 12,
   "metadata": {
    "collapsed": false
   },
   "outputs": [],
   "source": [
    "#eself-iPython _pause\n",
    "#edes-iPython def _pause(self):\n",
    "def _pause( ):\n",
    "    _pausethread.acquire()\n",
    "    waitthread.notify()\n",
    "    waitthread.release() #self-iPython _pause"
   ]
  },
  {
   "cell_type": "code",
   "execution_count": 13,
   "metadata": {
    "collapsed": true
   },
   "outputs": [],
   "source": [
    "#ini-iPython"
   ]
  },
  {
   "cell_type": "markdown",
   "metadata": {},
   "source": [
    "## Teste pause"
   ]
  },
  {
   "cell_type": "code",
   "execution_count": 14,
   "metadata": {
    "collapsed": true
   },
   "outputs": [],
   "source": [
    "#end-iPython"
   ]
  },
  {
   "cell_type": "markdown",
   "metadata": {},
   "source": [
    "# resume\n",
    "doxygen-iPython"
   ]
  },
  {
   "cell_type": "code",
   "execution_count": 15,
   "metadata": {
    "collapsed": false
   },
   "outputs": [],
   "source": [
    "#eself-iPython _resume\n",
    "#edes-iPython def _resume(self):\n",
    "def _resume( ):\n",
    "    waitthread.acquire()\n",
    "    _pausethread.notify()\n",
    "    _pausethread.release() #self-iPython _resume"
   ]
  },
  {
   "cell_type": "code",
   "execution_count": 16,
   "metadata": {
    "collapsed": true
   },
   "outputs": [],
   "source": [
    "#ini-iPython"
   ]
  },
  {
   "cell_type": "markdown",
   "metadata": {},
   "source": [
    "## Teste resume"
   ]
  },
  {
   "cell_type": "code",
   "execution_count": 17,
   "metadata": {
    "collapsed": true
   },
   "outputs": [],
   "source": [
    "#end-iPython"
   ]
  },
  {
   "cell_type": "code",
   "execution_count": 18,
   "metadata": {
    "collapsed": true
   },
   "outputs": [],
   "source": [
    "#end-tab -> Finalizando classe"
   ]
  }
 ],
 "metadata": {
  "kernelspec": {
   "display_name": "Python 2",
   "language": "python",
   "name": "python2"
  },
  "language_info": {
   "codemirror_mode": {
    "name": "ipython",
    "version": 2
   },
   "file_extension": ".py",
   "mimetype": "text/x-python",
   "name": "python",
   "nbconvert_exporter": "python",
   "pygments_lexer": "ipython2",
   "version": "2.7.6"
  }
 },
 "nbformat": 4,
 "nbformat_minor": 1
}
