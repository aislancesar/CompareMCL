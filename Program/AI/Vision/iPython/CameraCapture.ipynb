{
 "cells": [
  {
   "cell_type": "code",
   "execution_count": 1,
   "metadata": {
    "collapsed": true
   },
   "outputs": [],
   "source": [
    "# Libraries to be used\n",
    "import sys\n",
    "#des-iPython sys.path.append('../include')\n",
    "#des-iPython sys.path.append('../src')\n",
    "#ini-iPython\n",
    "\n",
    "class test:\n",
    "    camera = True\n",
    "\n",
    "class test1:\n",
    "    def read_float(self, name):\n",
    "        return 0\n",
    "\n",
    "_bkb = test1()\n",
    "\n",
    "_args = test()\n",
    "\n",
    "#end-iPython"
   ]
  },
  {
   "cell_type": "code",
   "execution_count": 2,
   "metadata": {
    "collapsed": false
   },
   "outputs": [],
   "source": [
    "import os # Library for interaction with the system\n",
    "from copy import copy\n",
    "import time\n",
    "# from datetime import *"
   ]
  },
  {
   "cell_type": "code",
   "execution_count": 3,
   "metadata": {
    "collapsed": false
   },
   "outputs": [
    {
     "name": "stdout",
     "output_type": "stream",
     "text": [
      "BasicClass - Opencv Version: 3.2.0-dev\n"
     ]
    }
   ],
   "source": [
    "# Used class developed by RoboFEI-HT\n",
    "sys.path.append('../../Blackboard/src') #debug-iPython\n",
    "from BasicThread import * # Base class with primary functions"
   ]
  },
  {
   "cell_type": "markdown",
   "metadata": {},
   "source": [
    "# Class CameraCapture\n",
    "Class responsible for performing the observation of domain\n",
    "doxygen-iPython"
   ]
  },
  {
   "cell_type": "code",
   "execution_count": 4,
   "metadata": {
    "collapsed": true
   },
   "outputs": [],
   "source": [
    "#des-iPython class CameraCapture(BasicThread):\n",
    "#ini-tab -> Iniciando código classe"
   ]
  },
  {
   "cell_type": "markdown",
   "metadata": {},
   "source": [
    "---- Variables ----"
   ]
  },
  {
   "cell_type": "markdown",
   "metadata": {},
   "source": [
    "# Camera variable\n",
    "Responsible for communicating with the camera.\n",
    "doxygen-iPython"
   ]
  },
  {
   "cell_type": "code",
   "execution_count": 5,
   "metadata": {
    "collapsed": true
   },
   "outputs": [],
   "source": [
    "__camera = None #self-iPython __camera"
   ]
  },
  {
   "cell_type": "markdown",
   "metadata": {},
   "source": [
    "# Port variable\n",
    "Port where the camera is connected.\n",
    "doxygen-iPython"
   ]
  },
  {
   "cell_type": "code",
   "execution_count": 6,
   "metadata": {
    "collapsed": true
   },
   "outputs": [],
   "source": [
    "__port = None #self-iPython __port"
   ]
  },
  {
   "cell_type": "markdown",
   "metadata": {},
   "source": [
    "# observation variable\n",
    "Saves the observation of the most recent state.\n",
    "doxygen-iPython"
   ]
  },
  {
   "cell_type": "code",
   "execution_count": 7,
   "metadata": {
    "collapsed": true
   },
   "outputs": [],
   "source": [
    "__observation = None #self-iPython __observation"
   ]
  },
  {
   "cell_type": "markdown",
   "metadata": {},
   "source": [
    "# exe variable\n",
    "Flag responsible for executing camera capture\n",
    "doxygen-iPython"
   ]
  },
  {
   "cell_type": "code",
   "execution_count": 8,
   "metadata": {
    "collapsed": true
   },
   "outputs": [],
   "source": [
    "__exe = None #self-iPython __exe"
   ]
  },
  {
   "cell_type": "code",
   "execution_count": 9,
   "metadata": {
    "collapsed": true
   },
   "outputs": [],
   "source": [
    "#ini-iPython - Lista de funções\n",
    "\n",
    "#self-iPython cameraOpen\n",
    "#self-iPython finalize\n",
    "#self-iPython run\n",
    "#self-iPython currentObservation\n",
    "#self-iPython __trackbarFocus\n",
    "#self-iPython __trackbarSaturation\n",
    "\n",
    "# Lista Variaveis classes herdadas\n",
    "\n",
    "#self-iPython _confini\n",
    "#self-iPython _bkb\n",
    "#self-iPython _args\n",
    "\n",
    "#end-iPython - Fim listas"
   ]
  },
  {
   "cell_type": "markdown",
   "metadata": {},
   "source": [
    "# cameraOpen\n",
    "Used to locate the port where the camera is connected and connect to it\n",
    "doxygen-iPython"
   ]
  },
  {
   "cell_type": "code",
   "execution_count": 10,
   "metadata": {
    "collapsed": true
   },
   "outputs": [],
   "source": [
    "#eself-iPython cameraOpen\n",
    "#edes-iPython def cameraOpen(self):\n",
    "def cameraOpen( ):\n",
    "    p = os.popen('ls /dev/video*')\n",
    "    line = p.readline()\n",
    "    #des-iPython if line == '':\n",
    "        #des-iPython raise VisionException(1, '')\n",
    "    \n",
    "    for port in xrange(10):\n",
    "        print port #debug-iPython\n",
    "        camera = cv2.VideoCapture(port)\n",
    "        print camera.isOpened() #debug-iPython\n",
    "        if camera.isOpened():\n",
    "            break\n",
    "    \n",
    "    #des-iPython if not camera.isOpened():\n",
    "        #des-iPython raise VisionException(2, '')\n",
    "    print 'Função:', camera.isOpened(), 'Porta:', port #debug-iPython\n",
    "    return camera, port #self-iPython cameraOpen"
   ]
  },
  {
   "cell_type": "code",
   "execution_count": 11,
   "metadata": {
    "collapsed": true
   },
   "outputs": [],
   "source": [
    "#ini-iPython"
   ]
  },
  {
   "cell_type": "markdown",
   "metadata": {},
   "source": [
    "## Teste cameraOpen"
   ]
  },
  {
   "cell_type": "code",
   "execution_count": 12,
   "metadata": {
    "collapsed": false,
    "scrolled": true
   },
   "outputs": [
    {
     "name": "stdout",
     "output_type": "stream",
     "text": [
      "0\n",
      "False\n",
      "1\n",
      "False\n",
      "2\n",
      "False\n",
      "3\n",
      "False\n",
      "4\n",
      "False\n",
      "5\n",
      "False\n",
      "6\n",
      "False\n",
      "7\n",
      "False\n",
      "8\n",
      "False\n",
      "9\n",
      "False\n",
      "Função: False Porta: 9\n"
     ]
    }
   ],
   "source": [
    "camera, port = cameraOpen()\n",
    "camera.release()\n",
    "#end-iPython"
   ]
  },
  {
   "cell_type": "markdown",
   "metadata": {},
   "source": [
    "# trackbarFocus\n",
    "Responsible for reading the values of the trackbar.\n",
    "doxygen-iPython"
   ]
  },
  {
   "cell_type": "code",
   "execution_count": 13,
   "metadata": {
    "collapsed": true
   },
   "outputs": [],
   "source": [
    "#eself-iPython __trackbarFocus\n",
    "#edes-iPython def __trackbarFocus(self, value):\n",
    "def __trackbarFocus(value):\n",
    "    __observation['focus'] = value\n",
    "    os.system(\"v4l2-ctl -d /dev/video\" + str(__port) + \" -c focus_absolute=\" + str(__observation['focus'])) #self-iPython __trackbarFocus"
   ]
  },
  {
   "cell_type": "code",
   "execution_count": 14,
   "metadata": {
    "collapsed": true
   },
   "outputs": [],
   "source": [
    "#ini-iPython"
   ]
  },
  {
   "cell_type": "markdown",
   "metadata": {},
   "source": [
    "## Teste trackbarFocus"
   ]
  },
  {
   "cell_type": "code",
   "execution_count": 15,
   "metadata": {
    "collapsed": false,
    "scrolled": true
   },
   "outputs": [],
   "source": [
    "#end-iPython"
   ]
  },
  {
   "cell_type": "markdown",
   "metadata": {},
   "source": [
    "# trackbarSaturation\n",
    "Responsible for reading the values of the trackbar.\n",
    "doxygen-iPython"
   ]
  },
  {
   "cell_type": "code",
   "execution_count": 13,
   "metadata": {
    "collapsed": true
   },
   "outputs": [],
   "source": [
    "#eself-iPython __trackbarSaturation\n",
    "#edes-iPython def __trackbarSaturation(self, value):\n",
    "def __trackbarSaturation(value):\n",
    "    __observation['saturation'] = value\n",
    "    os.system(\"v4l2-ctl -d /dev/video\" + str(__port) + \" -c saturation=\" + str(__observation['saturation'])) #self-iPython __trackbarSaturation"
   ]
  },
  {
   "cell_type": "code",
   "execution_count": 14,
   "metadata": {
    "collapsed": true
   },
   "outputs": [],
   "source": [
    "#ini-iPython"
   ]
  },
  {
   "cell_type": "markdown",
   "metadata": {},
   "source": [
    "## Teste trackbarSaturation"
   ]
  },
  {
   "cell_type": "code",
   "execution_count": 15,
   "metadata": {
    "collapsed": false,
    "scrolled": true
   },
   "outputs": [],
   "source": [
    "#end-iPython"
   ]
  },
  {
   "cell_type": "markdown",
   "metadata": {
    "collapsed": true
   },
   "source": [
    "# finalize\n",
    "Terminates the capture process and saves the generated information\n",
    "doxygen-iPython"
   ]
  },
  {
   "cell_type": "code",
   "execution_count": 16,
   "metadata": {
    "collapsed": true
   },
   "outputs": [],
   "source": [
    "#eself-iPython finalize\n",
    "#edes-iPython def finalize(self):\n",
    "def finalize( ):\n",
    "    __exe = False\n",
    "    #des-iPython self.join()\n",
    "    __camera.release()\n",
    "    del __observation['frame']\n",
    "    del __observation['pos_tilt']\n",
    "    del __observation['pos_pan']\n",
    "    del __observation['time']\n",
    "    #des-iPython super(CameraCapture,self).finalize(__observation)"
   ]
  },
  {
   "cell_type": "code",
   "execution_count": 17,
   "metadata": {
    "collapsed": true
   },
   "outputs": [],
   "source": [
    "#ini-iPython"
   ]
  },
  {
   "cell_type": "markdown",
   "metadata": {},
   "source": [
    "## Teste finalize"
   ]
  },
  {
   "cell_type": "code",
   "execution_count": 18,
   "metadata": {
    "collapsed": false
   },
   "outputs": [
    {
     "name": "stdout",
     "output_type": "stream",
     "text": [
      "0\n",
      "False\n",
      "1\n",
      "False\n",
      "2\n",
      "False\n",
      "3\n",
      "False\n",
      "4\n",
      "False\n",
      "5\n",
      "False\n",
      "6\n",
      "False\n",
      "7\n",
      "False\n",
      "8\n",
      "False\n",
      "9\n",
      "False\n",
      "Função: False Porta: 9\n"
     ]
    }
   ],
   "source": [
    "__camera, __port = cameraOpen()\n",
    "__observation = {}\n",
    "__observation['frame'] = 1\n",
    "__observation['pos_tilt'] = 2\n",
    "__observation['pos_pan'] = 2\n",
    "__observation['time'] = 2\n",
    "finalize()\n",
    "#end-iPython"
   ]
  },
  {
   "cell_type": "markdown",
   "metadata": {},
   "source": [
    "# Constructor Class\n",
    "doxygen-iPython"
   ]
  },
  {
   "cell_type": "code",
   "execution_count": 19,
   "metadata": {
    "collapsed": false
   },
   "outputs": [
    {
     "name": "stdout",
     "output_type": "stream",
     "text": [
      "0\n",
      "False\n",
      "1\n",
      "False\n",
      "2\n",
      "False\n",
      "3\n",
      "False\n",
      "4\n",
      "False\n",
      "5\n",
      "False\n",
      "6\n",
      "False\n",
      "7\n",
      "False\n",
      "8\n",
      "False\n",
      "9\n",
      "False\n",
      "Função: False Porta: 9\n",
      "Contrutor:  False\n"
     ]
    },
    {
     "data": {
      "text/plain": [
       "256"
      ]
     },
     "execution_count": 19,
     "metadata": {},
     "output_type": "execute_result"
    }
   ],
   "source": [
    "#des-iPython def __init__(self, arg):\n",
    "arg = -1 #debug-iPython\n",
    "#ini-tab -> Iniciando código construtor\n",
    "#edes-iPython super(CameraCapture, self).__init__(arg, 'Camera' , 'parameters')\n",
    "_confini = ConfigIni(\"Camera\" , \"parameters\")\n",
    "\n",
    "__observation = _confini.read()\n",
    "if __observation is -1:\n",
    "    __observation = {\n",
    "        'fps': 30,\n",
    "        'focus': 25,\n",
    "        'saturation': 128,\n",
    "    }\n",
    "\n",
    "__camera, __port = cameraOpen()\n",
    "print \"Contrutor: \", __camera.isOpened() #debug-iPython\n",
    "\n",
    "__camera.set(3,1280)\n",
    "__camera.set(4,720)\n",
    "\n",
    "os.system(\"v4l2-ctl -d /dev/video\" + str(__port) + \" -c focus_auto=0\")\n",
    "os.system(\"v4l2-ctl -d /dev/video\" + str(__port) + \" -c focus_absolute=\" + str(__observation['focus']))\n",
    "os.system(\"v4l2-ctl -d /dev/video\" + str(__port) + \" -c saturation=\" + str(__observation['saturation']))\n",
    "\n",
    "#des-iPython self.start()"
   ]
  },
  {
   "cell_type": "code",
   "execution_count": 20,
   "metadata": {
    "collapsed": true
   },
   "outputs": [],
   "source": [
    "#end-tab -> Fim construtor"
   ]
  },
  {
   "cell_type": "code",
   "execution_count": 21,
   "metadata": {
    "collapsed": true
   },
   "outputs": [],
   "source": [
    "#ini-iPython"
   ]
  },
  {
   "cell_type": "markdown",
   "metadata": {},
   "source": [
    "## Teste construtor"
   ]
  },
  {
   "cell_type": "code",
   "execution_count": 22,
   "metadata": {
    "collapsed": true
   },
   "outputs": [],
   "source": [
    "#end-iPython"
   ]
  },
  {
   "cell_type": "markdown",
   "metadata": {},
   "source": [
    "# run\n",
    "Function that will be executed as a thread\n",
    "doxygen-iPython"
   ]
  },
  {
   "cell_type": "code",
   "execution_count": 23,
   "metadata": {
    "collapsed": false
   },
   "outputs": [],
   "source": [
    "from IPython.display import clear_output #debug-iPython\n",
    "#eself-iPython run\n",
    "#edes-iPython def run(self):\n",
    "def run( ):\n",
    "    print 'Run:', __camera.isOpened() #debug-iPython\n",
    "    __exe = True\n",
    "    \n",
    "    if _args.camera is True:\n",
    "        cv2.namedWindow('Camera parameters')\n",
    "        cv2.createTrackbar('focus', 'Camera parameters', __observation['focus'], 250, __trackbarFocus)\n",
    "        cv2.createTrackbar('saturation', 'Camera parameters', __observation['saturation'], 255, __trackbarSaturation)\n",
    "    \n",
    "    while __exe:\n",
    "        if _args.camera == True or _args.camera == 'off':\n",
    "            #des-iPython os.system('clear') # Cleaning terminal\n",
    "#             clear_output()\n",
    "            start = time.time()\n",
    "        \n",
    "        ret, __observation['frame'] = __camera.read()\n",
    "        __observation['pos_tilt'] = _bkb.read_float('VISION_TILT_DEG')\n",
    "        __observation['pos_pan'] = _bkb.read_float('VISION_PAN_DEG')\n",
    "        __observation['time'] = time.localtime()\n",
    "        \n",
    "        if _args.camera == True:\n",
    "            cv2.imshow('Camera parameters', __observation['frame'])\n",
    "            if cv2.waitKey(1) & 0xFF == ord('q'):\n",
    "                _args.camera = 'off'\n",
    "                cv2.destroyAllWindows()\n",
    "#                 break #debug-iPython\n",
    "        else:\n",
    "            print \"FPS teorico:\", __observation['fps'] #debug-iPython\n",
    "            print \"Tempo espera:\", 1.0/__observation['fps'] #debug-iPython\n",
    "            time.sleep(1.0/__observation['fps']) # Camera fps\n",
    "        \n",
    "        if _args.camera == True or _args.camera == 'off':\n",
    "            diff = time.time() - start\n",
    "            print 'Diff:', diff, 'FPS medido:', 1.0/(diff) #self-iPython run"
   ]
  },
  {
   "cell_type": "code",
   "execution_count": 24,
   "metadata": {
    "collapsed": true
   },
   "outputs": [],
   "source": [
    "#ini-iPython"
   ]
  },
  {
   "cell_type": "markdown",
   "metadata": {},
   "source": [
    "## Teste run"
   ]
  },
  {
   "cell_type": "code",
   "execution_count": 25,
   "metadata": {
    "collapsed": false
   },
   "outputs": [
    {
     "name": "stdout",
     "output_type": "stream",
     "text": [
      "Run: False\n"
     ]
    },
    {
     "ename": "error",
     "evalue": "/home/vinicius/OpenCV/opencv/modules/highgui/src/window.cpp:312: error: (-215) size.width>0 && size.height>0 in function imshow\n",
     "output_type": "error",
     "traceback": [
      "\u001b[0;31m---------------------------------------------------------------------------\u001b[0m",
      "\u001b[0;31merror\u001b[0m                                     Traceback (most recent call last)",
      "\u001b[0;32m<ipython-input-25-157c9bda2cd6>\u001b[0m in \u001b[0;36m<module>\u001b[0;34m()\u001b[0m\n\u001b[0;32m----> 1\u001b[0;31m \u001b[0mrun\u001b[0m\u001b[0;34m(\u001b[0m\u001b[0;34m)\u001b[0m\u001b[0;34m\u001b[0m\u001b[0m\n\u001b[0m",
      "\u001b[0;32m<ipython-input-23-9c07b1f29e41>\u001b[0m in \u001b[0;36mrun\u001b[0;34m()\u001b[0m\n\u001b[1;32m     22\u001b[0m \u001b[0;34m\u001b[0m\u001b[0m\n\u001b[1;32m     23\u001b[0m         \u001b[0;32mif\u001b[0m \u001b[0m_args\u001b[0m\u001b[0;34m.\u001b[0m\u001b[0mcamera\u001b[0m \u001b[0;34m==\u001b[0m \u001b[0mTrue\u001b[0m\u001b[0;34m:\u001b[0m\u001b[0;34m\u001b[0m\u001b[0m\n\u001b[0;32m---> 24\u001b[0;31m             \u001b[0mcv2\u001b[0m\u001b[0;34m.\u001b[0m\u001b[0mimshow\u001b[0m\u001b[0;34m(\u001b[0m\u001b[0;34m'Camera parameters'\u001b[0m\u001b[0;34m,\u001b[0m \u001b[0m__observation\u001b[0m\u001b[0;34m[\u001b[0m\u001b[0;34m'frame'\u001b[0m\u001b[0;34m]\u001b[0m\u001b[0;34m)\u001b[0m\u001b[0;34m\u001b[0m\u001b[0m\n\u001b[0m\u001b[1;32m     25\u001b[0m             \u001b[0;32mif\u001b[0m \u001b[0mcv2\u001b[0m\u001b[0;34m.\u001b[0m\u001b[0mwaitKey\u001b[0m\u001b[0;34m(\u001b[0m\u001b[0;36m1\u001b[0m\u001b[0;34m)\u001b[0m \u001b[0;34m&\u001b[0m \u001b[0;36m0xFF\u001b[0m \u001b[0;34m==\u001b[0m \u001b[0mord\u001b[0m\u001b[0;34m(\u001b[0m\u001b[0;34m'q'\u001b[0m\u001b[0;34m)\u001b[0m\u001b[0;34m:\u001b[0m\u001b[0;34m\u001b[0m\u001b[0m\n\u001b[1;32m     26\u001b[0m                 \u001b[0m_args\u001b[0m\u001b[0;34m.\u001b[0m\u001b[0mcamera\u001b[0m \u001b[0;34m=\u001b[0m \u001b[0;34m'off'\u001b[0m\u001b[0;34m\u001b[0m\u001b[0m\n",
      "\u001b[0;31merror\u001b[0m: /home/vinicius/OpenCV/opencv/modules/highgui/src/window.cpp:312: error: (-215) size.width>0 && size.height>0 in function imshow\n"
     ]
    }
   ],
   "source": [
    "run()"
   ]
  },
  {
   "cell_type": "code",
   "execution_count": null,
   "metadata": {
    "collapsed": false
   },
   "outputs": [],
   "source": [
    "finalize()\n",
    "cv2.destroyAllWindows()\n",
    "#end-iPython"
   ]
  },
  {
   "cell_type": "markdown",
   "metadata": {},
   "source": [
    "# currentObservation\n",
    "doxygen-iPython"
   ]
  },
  {
   "cell_type": "code",
   "execution_count": null,
   "metadata": {
    "collapsed": false
   },
   "outputs": [],
   "source": [
    "#eself-iPython currentObservation\n",
    "#edes-iPython def currentObservation(self):\n",
    "def currentObservation( ):\n",
    "    return __observation.copy() #self-iPython currentObservation"
   ]
  },
  {
   "cell_type": "code",
   "execution_count": null,
   "metadata": {
    "collapsed": true
   },
   "outputs": [],
   "source": [
    "#ini-iPython"
   ]
  },
  {
   "cell_type": "markdown",
   "metadata": {},
   "source": [
    "## Teste currentObservation"
   ]
  },
  {
   "cell_type": "code",
   "execution_count": null,
   "metadata": {
    "collapsed": false
   },
   "outputs": [],
   "source": [
    "\n",
    "#end-iPython"
   ]
  },
  {
   "cell_type": "code",
   "execution_count": null,
   "metadata": {
    "collapsed": true
   },
   "outputs": [],
   "source": [
    "#end-tab -> Fim código classe"
   ]
  }
 ],
 "metadata": {
  "kernelspec": {
   "display_name": "Python 2",
   "language": "python",
   "name": "python2"
  },
  "language_info": {
   "codemirror_mode": {
    "name": "ipython",
    "version": 2
   },
   "file_extension": ".py",
   "mimetype": "text/x-python",
   "name": "python",
   "nbconvert_exporter": "python",
   "pygments_lexer": "ipython2",
   "version": "2.7.6"
  }
 },
 "nbformat": 4,
 "nbformat_minor": 1
}
