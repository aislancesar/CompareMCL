{
 "cells": [
  {
   "cell_type": "markdown",
   "metadata": {},
   "source": [
    "---- Imports ----"
   ]
  },
  {
   "cell_type": "code",
   "execution_count": 1,
   "metadata": {
    "collapsed": true
   },
   "outputs": [],
   "source": [
    "# Libraries to be used\n",
    "#des-iPython import sys\n",
    "#des-iPython sys.path.append('../include')\n",
    "#des-iPython sys.path.append('../src')"
   ]
  },
  {
   "cell_type": "code",
   "execution_count": 2,
   "metadata": {
    "collapsed": false
   },
   "outputs": [],
   "source": [
    "# The standard libraries used in the vision system"
   ]
  },
  {
   "cell_type": "code",
   "execution_count": 3,
   "metadata": {
    "collapsed": false
   },
   "outputs": [
    {
     "name": "stdout",
     "output_type": "stream",
     "text": [
      "BasicClass - Opencv Version: 3.2.0-dev\n",
      "Initializing class for Rosto detection\n",
      "Instantiating Basic Class\n",
      "Parameters not found for Rosto, using standard parameters.\n"
     ]
    }
   ],
   "source": [
    "# Used class developed by RoboFEI-HT\n",
    "from VisionException import * # Used to handle exceptions\n",
    "from BasicClass import * # Basic support class"
   ]
  },
  {
   "cell_type": "markdown",
   "metadata": {},
   "source": [
    "# Class to HAAR cascades\n",
    "Classifier used to identify objects.\n",
    "doxygen-iPython"
   ]
  },
  {
   "cell_type": "code",
   "execution_count": 4,
   "metadata": {
    "collapsed": true
   },
   "outputs": [],
   "source": [
    "#des-iPython class HaarCascades(BasicClass):\n",
    "#ini-tab -> Iniciando código classe"
   ]
  },
  {
   "cell_type": "markdown",
   "metadata": {},
   "source": [
    "---- Variables ----"
   ]
  },
  {
   "cell_type": "markdown",
   "metadata": {},
   "source": [
    "# Variable HAAR\n",
    "Used to perform HAAR detection and classification\n",
    "doxygen-iPython"
   ]
  },
  {
   "cell_type": "code",
   "execution_count": 5,
   "metadata": {
    "collapsed": true
   },
   "outputs": [],
   "source": [
    "__haarcascade = None #self-iPython __haarcascade"
   ]
  },
  {
   "cell_type": "markdown",
   "metadata": {},
   "source": [
    "# myobject\n",
    "Name of myobject\n",
    "doxygen-iPython"
   ]
  },
  {
   "cell_type": "code",
   "execution_count": 6,
   "metadata": {
    "collapsed": true
   },
   "outputs": [],
   "source": [
    "__myobject = None #self-iPython __myobject"
   ]
  },
  {
   "cell_type": "markdown",
   "metadata": {},
   "source": [
    "# Parameters HAAR\n",
    "Parameters used in the classifier.\n",
    "doxygen-iPython"
   ]
  },
  {
   "cell_type": "code",
   "execution_count": 7,
   "metadata": {
    "collapsed": true
   },
   "outputs": [],
   "source": [
    "__parametershaar = None #self-iPython __parametershaar"
   ]
  },
  {
   "cell_type": "markdown",
   "metadata": {},
   "source": [
    "# Constructor Class\n",
    "doxygen-iPython"
   ]
  },
  {
   "cell_type": "code",
   "execution_count": 8,
   "metadata": {
    "collapsed": false
   },
   "outputs": [
    {
     "name": "stdout",
     "output_type": "stream",
     "text": [
      "Initializing class for Rosto detection\n"
     ]
    },
    {
     "ename": "NameError",
     "evalue": "name 'self' is not defined",
     "output_type": "error",
     "traceback": [
      "\u001b[0;31m---------------------------------------------------------------------------\u001b[0m",
      "\u001b[0;31mNameError\u001b[0m                                 Traceback (most recent call last)",
      "\u001b[0;32m<ipython-input-8-9dd3a450fc60>\u001b[0m in \u001b[0;36m<module>\u001b[0;34m()\u001b[0m\n\u001b[1;32m      4\u001b[0m \u001b[0marg\u001b[0m \u001b[0;34m=\u001b[0m \u001b[0;34m-\u001b[0m\u001b[0;36m1\u001b[0m \u001b[0;31m#debug-iPython\u001b[0m\u001b[0;34m\u001b[0m\u001b[0m\n\u001b[1;32m      5\u001b[0m \u001b[0;32mprint\u001b[0m \u001b[0;34m'Initializing class for '\u001b[0m \u001b[0;34m+\u001b[0m \u001b[0mname\u001b[0m \u001b[0;34m+\u001b[0m \u001b[0;34m' detection'\u001b[0m\u001b[0;34m\u001b[0m\u001b[0m\n\u001b[0;32m----> 6\u001b[0;31m \u001b[0msuper\u001b[0m\u001b[0;34m(\u001b[0m\u001b[0mHaarCascades\u001b[0m\u001b[0;34m,\u001b[0m \u001b[0mself\u001b[0m\u001b[0;34m)\u001b[0m\u001b[0;34m.\u001b[0m\u001b[0m__init__\u001b[0m\u001b[0;34m(\u001b[0m\u001b[0mname\u001b[0m\u001b[0;34m,\u001b[0m \u001b[0;34m\"HAAR\"\u001b[0m\u001b[0;34m,\u001b[0m \u001b[0marg\u001b[0m\u001b[0;34m)\u001b[0m\u001b[0;34m\u001b[0m\u001b[0m\n\u001b[0m\u001b[1;32m      7\u001b[0m \u001b[0mmyobject\u001b[0m \u001b[0;34m=\u001b[0m \u001b[0mname\u001b[0m\u001b[0;34m\u001b[0m\u001b[0m\n\u001b[1;32m      8\u001b[0m \u001b[0;31m#edes-iPython haarcascade = cv2.CascadeClassifier('./data/' + name + '.xml') # Reading feature XML file\u001b[0m\u001b[0;34m\u001b[0m\u001b[0;34m\u001b[0m\u001b[0m\n",
      "\u001b[0;31mNameError\u001b[0m: name 'self' is not defined"
     ]
    }
   ],
   "source": [
    "#des-iPython def __init__(self, name, arg):\n",
    "#ini-tab -> Criando construtor\n",
    "name = 'Rosto' #debug-iPython\n",
    "arg = -1 #debug-iPython\n",
    "print 'Initializing class for ' + name + ' detection'\n",
    "super(HaarCascades, self).__init__(name, \"HAAR\", arg)\n",
    "myobject = name\n",
    "#edes-iPython haarcascade = cv2.CascadeClassifier('./data/' + name + '.xml') # Reading feature XML file\n",
    "haarcascade = cv2.CascadeClassifier('../data/' + name + '.xml') # Reading feature XML file\n",
    "haarcascade = cv2.CascadeClassifier('../data/haarcascade_frontalface_alt2.xml') # debug-iPython Testando face\n",
    "\n",
    "try: # Testing whether file exists or is empty\n",
    "    if haarcascade.empty():\n",
    "        raise VisionException(0, name)\n",
    "except VisionException as e:\n",
    "    print \"Erro tratado, será finalizado o programa\" #debug-iPython\n",
    "    #des-iPython sys.exit()\n",
    "\n",
    "__parametershaar = self._confini.read()\n",
    "\n",
    "if __parametershaar == -1:\n",
    "    print \"Parameters not found for \" + name + \", using standard parameters.\"\n",
    "    __parametershaar = {\n",
    "        \"scaleFactor\": 1.1,\n",
    "        \"minNeighbors\": 3,\n",
    "        \"minSize\": 30,\n",
    "        \"fontScale\": 1,\n",
    "        \"subtitleR\": 0,\n",
    "        \"subtitleG\": 255,\n",
    "        \"subtitleB\": 0\n",
    "    }"
   ]
  },
  {
   "cell_type": "code",
   "execution_count": null,
   "metadata": {
    "collapsed": true
   },
   "outputs": [],
   "source": [
    "#end-tab -> Criando construtor\n",
    "#ini-iPython"
   ]
  },
  {
   "cell_type": "code",
   "execution_count": null,
   "metadata": {
    "collapsed": false
   },
   "outputs": [],
   "source": [
    "parametershaar.keys()"
   ]
  },
  {
   "cell_type": "code",
   "execution_count": null,
   "metadata": {
    "collapsed": true
   },
   "outputs": [],
   "source": [
    "class test():\n",
    "    visionball = True"
   ]
  },
  {
   "cell_type": "code",
   "execution_count": null,
   "metadata": {
    "collapsed": false
   },
   "outputs": [],
   "source": [
    "args = test()\n",
    "args.visionball"
   ]
  },
  {
   "cell_type": "code",
   "execution_count": null,
   "metadata": {
    "collapsed": true
   },
   "outputs": [],
   "source": [
    "#end-iPython"
   ]
  },
  {
   "cell_type": "markdown",
   "metadata": {},
   "source": [
    "# detectHaar\n",
    "Used to detect the object using the HAAR classifier.\n",
    "doxygen-iPython"
   ]
  },
  {
   "cell_type": "code",
   "execution_count": null,
   "metadata": {
    "collapsed": true
   },
   "outputs": [],
   "source": [
    "#edes-iPython def detectHaar(self, frame):\n",
    "def detectHaar(frame):\n",
    "    objects = haarcascade.detectMultiScale(\n",
    "        frame,\n",
    "        scaleFactor = __parametershaar[\"scaleFactor\"],\n",
    "        minNeighbors = __parametershaar[\"minNeighbors\"],\n",
    "        minSize = (__parametershaar[\"minSize\"], __parametershaar[\"minSize\"])\n",
    "    )\n",
    "    if args.visionball == False:\n",
    "        return\n",
    "    \n",
    "    # Draw a rectangle around the objects\n",
    "    for (x, y, w, h) in objects:\n",
    "        cv2.rectangle( # Mark detected object\n",
    "            frame, # Image used for drawing\n",
    "            (x, y), # Starting position\n",
    "            (x+w, y+h), # Final position\n",
    "            (__parametershaar[\"subtitleB\"], __parametershaar[\"subtitleG\"], __parametershaar[\"subtitleR\"]), # Box color\n",
    "            2 # Line Width\n",
    "        )\n",
    "        \n",
    "        size = cv2.getTextSize( # Text Size\n",
    "            myobject, # Written text\n",
    "            cv2.FONT_HERSHEY_SIMPLEX, # Font\n",
    "            __parametershaar[\"fontScale\"], # Font scale\n",
    "            1 # Line Width\n",
    "        )[0]\n",
    "        \n",
    "        cv2.rectangle( # Drawing text background\n",
    "            frame, # Image used for drawing\n",
    "            (x - 1, y - size[1] - 2), # Starting position\n",
    "            (x + size[0] - 5, y), # Final position\n",
    "            (__parametershaar[\"subtitleB\"], __parametershaar[\"subtitleG\"], __parametershaar[\"subtitleR\"]), # Box color\n",
    "            -1 # Line Width - Filling in rectangle\n",
    "        )\n",
    "        \n",
    "        cv2.putText( # Drawing text in the image\n",
    "            frame, # Image used for drawing\n",
    "            myobject, # Written text\n",
    "            (x-3, y-1), # Starting position\n",
    "            cv2.FONT_HERSHEY_SIMPLEX, # Font\n",
    "            __parametershaar[\"fontScale\"], # Font scale\n",
    "            (0,0,0) # Font color - White\n",
    "        )\n",
    "\n",
    "    # Display the resulting frame\n",
    "    cv2.imshow('Detecting ' + name, frame)"
   ]
  },
  {
   "cell_type": "markdown",
   "metadata": {},
   "source": [
    "# finalize\n",
    "Terminates the HAAR process and saves the generated information.\n",
    "doxygen-iPython"
   ]
  },
  {
   "cell_type": "code",
   "execution_count": null,
   "metadata": {
    "collapsed": true
   },
   "outputs": [],
   "source": [
    "#edes-iPython def finalize(self):\n",
    "def finalize( ):\n",
    "    #edes-iPython super(HaarCascades, self).finaliza(__parametershaar)\n",
    "    print \"Finalizando\""
   ]
  },
  {
   "cell_type": "code",
   "execution_count": null,
   "metadata": {
    "collapsed": true
   },
   "outputs": [],
   "source": [
    "#end-tab -> Finalizando classe\n",
    "\n",
    "#ini-iPython"
   ]
  },
  {
   "cell_type": "markdown",
   "metadata": {},
   "source": [
    "# Testando código"
   ]
  },
  {
   "cell_type": "code",
   "execution_count": null,
   "metadata": {
    "collapsed": false
   },
   "outputs": [],
   "source": [
    "video_capture = cv2.VideoCapture(0)\n",
    "# video_capture.set(3,1280)\n",
    "# video_capture.set(4,1024)\n",
    "\n",
    "while True:\n",
    "    # Capture frame-by-frame\n",
    "    ret, frame = video_capture.read()\n",
    "\n",
    "    detectHaar(frame)\n",
    "\n",
    "    if cv2.waitKey(1) & 0xFF == ord('q'):\n",
    "        break\n",
    "\n",
    "# When everything is done, release the capture\n",
    "video_capture.release()\n",
    "cv2.destroyAllWindows()"
   ]
  },
  {
   "cell_type": "code",
   "execution_count": null,
   "metadata": {
    "collapsed": true
   },
   "outputs": [],
   "source": [
    "#end-iPython"
   ]
  }
 ],
 "metadata": {
  "kernelspec": {
   "display_name": "Python 2",
   "language": "python",
   "name": "python2"
  },
  "language_info": {
   "codemirror_mode": {
    "name": "ipython",
    "version": 2
   },
   "file_extension": ".py",
   "mimetype": "text/x-python",
   "name": "python",
   "nbconvert_exporter": "python",
   "pygments_lexer": "ipython2",
   "version": "2.7.6"
  }
 },
 "nbformat": 4,
 "nbformat_minor": 2
}
