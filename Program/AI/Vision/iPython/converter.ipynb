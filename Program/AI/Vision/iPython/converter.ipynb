{
 "cells": [
  {
   "cell_type": "markdown",
   "metadata": {},
   "source": [
    "# Conversor programas iPython para Python\n",
    "Converte um programa escrito em iPython para Python e mantém os comentários no formato do Doxygen, para fazer a documentação do código."
   ]
  },
  {
   "cell_type": "code",
   "execution_count": 1,
   "metadata": {
    "collapsed": true
   },
   "outputs": [],
   "source": [
    "import os # Lendo os arquivos\n",
    "import re"
   ]
  },
  {
   "cell_type": "markdown",
   "metadata": {},
   "source": [
    "## Selecionado arquivos\n",
    "Localizando arquivos python para correção."
   ]
  },
  {
   "cell_type": "code",
   "execution_count": 2,
   "metadata": {
    "collapsed": false
   },
   "outputs": [
    {
     "data": {
      "text/plain": [
       "['test2.py']"
      ]
     },
     "execution_count": 2,
     "metadata": {},
     "output_type": "execute_result"
    }
   ],
   "source": [
    "filenames = os.listdir(\"./\")\n",
    "for x in range(len(filenames)-1, -1, -1):\n",
    "    if filenames[x].find('.py') == -1 or filenames[x].find('.py~') != -1 or filenames[x].find('converter.py') != -1:\n",
    "        filenames.pop(x)\n",
    "filenames"
   ]
  },
  {
   "cell_type": "markdown",
   "metadata": {},
   "source": [
    "## Iniciando correção"
   ]
  },
  {
   "cell_type": "code",
   "execution_count": 3,
   "metadata": {
    "collapsed": true
   },
   "outputs": [],
   "source": [
    "'''Tudo que estiver entre '#ini-tab' e '#end-tab' será acresentado a tabulação no inicio'''\n",
    "def inserindoTab(data):\n",
    "    # Localizando primeiro ini-tab\n",
    "    while True:\n",
    "        inicio = -1\n",
    "        for x in xrange(len(data)):\n",
    "            if data[x].find('#ini-tab') != -1:\n",
    "                inicio = x\n",
    "        if inicio == -1:\n",
    "            break\n",
    "        for x in xrange(len(data)):\n",
    "            if data[x].find('#end-tab') != -1:\n",
    "                fim = x\n",
    "        for x in xrange(inicio+1, fim):\n",
    "            data[x] = '\\t' + data[x]\n",
    "        data.pop(fim)\n",
    "        data.pop(inicio)\n",
    "    return data\n",
    "\n",
    "'''As linhas que tiverem o comando '#edes-iPython' será descomentada e a linha seguinte apagada'''\n",
    "def removerEdes(data):\n",
    "    for x in range(len(data)-1, -1, -1):\n",
    "        if data[x].find('#edes-iPython') != -1:\n",
    "            data[x] = data[x].replace('#edes-iPython ','')\n",
    "            data.pop(x+1)\n",
    "    return data\n",
    "\n",
    "'''As linhas que tiverem o comando '#des-iPython' será descomentada'''\n",
    "def removerDes(data):\n",
    "    for x in range(len(data)-1, -1, -1):\n",
    "        if data[x].find('#des-iPython') != -1:\n",
    "            data[x] = data[x].replace('#des-iPython ','')\n",
    "            data[x] = data[x].replace('#des-iPython\\t','')\n",
    "    return data\n",
    "\n",
    "'''Tudo que entre '#ini-iPython' e '#end-iPython' será apagado'''\n",
    "def removeriPython(data):\n",
    "    for x in range(len(data)-1, -1, -1):\n",
    "        if data[x].find('#ini-iPython') != -1:\n",
    "            inicio = x\n",
    "            del data[inicio:fim+1]\n",
    "        elif data[x].find('#end-iPython') != -1:\n",
    "            fim = x\n",
    "    return data\n",
    "\n",
    "'''Todos os comandos do plt são apagados, para que ele seja repassado ao codigo deve ser usado matplotlib.pyplot'''\n",
    "def atualizarMatplotlib(data):\n",
    "    for x in range(len(data)-1, -1, -1):\n",
    "        if data[x].find('get_ipython()') != -1 or data[x].find('plt') != -1:\n",
    "            data.pop(x)\n",
    "            \n",
    "    for x in range(len(data)-1, -1, -1):\n",
    "        if data[x].find('import matplotlib.pyplot') != -1:\n",
    "            data[x] = 'import matplotlib.pyplot as plt'\n",
    "        elif data[x].find('matplotlib.pyplot') != -1:\n",
    "            data[x] = data[x].replace('matplotlib.pyplot', 'plt')\n",
    "    return data\n",
    "\n",
    "'''Quando se comenta \"#self-iPython NOME VARIAVEL\" todas as variaveis com esse nome será colocado o self,\n",
    "isso até o final do arquivo ou até o \"#eself-iPython NOME VARIAVEL\"'''\n",
    "def atualizaSelf(data):\n",
    "    listSelf = []\n",
    "    remove = []\n",
    "    for x in range(len(data)):\n",
    "        for tag in listSelf:\n",
    "            comment = None\n",
    "            if data[x].find(\"#\") != -1:\n",
    "                data[x], comment = data[x].split(\"#\", 1)\n",
    "                comment = '#' + comment\n",
    "            if re.search(r\"\\b\" + re.escape(tag) + r\"\\b\", data[x]):\n",
    "                data[x] = re.sub(r'\\b' + tag + r'\\b', 'self.' + tag, data[x])\n",
    "            if comment != None:\n",
    "                data[x] = data[x] + comment\n",
    "        \n",
    "        if data[x].find('#self-iPython') != -1:\n",
    "            listSelf.append(data[x][data[x].find('#self-iPython')+14:])\n",
    "            if data[x].find('#self-iPython') != -1:\n",
    "                data[x] = data[x][:data[x].find('#self-iPython')-1]\n",
    "            else:\n",
    "                remove.append(x)\n",
    "        \n",
    "        elif data[x].find('#eself-iPython') != -1:\n",
    "            listSelf.remove(data[x][data[x].find('#eself-iPython')+15:])\n",
    "            remove.append(x)\n",
    "    for index in sorted(remove, reverse=True):\n",
    "        del data[index]\n",
    "    return data\n",
    "\n",
    "'''Comentario markdown com o doxygen'''\n",
    "def removerDoxygen(data):\n",
    "    for x in range(len(data)-1, -1, -1):\n",
    "        if data[x].find('# doxygen-iPython') != -1:\n",
    "            data.pop(x)\n",
    "            data.pop(x)\n",
    "    return data\n",
    "\n",
    "'''Removendo debug'''\n",
    "def removerDebug(data):\n",
    "    for x in range(len(data)-1, -1, -1):\n",
    "        if data[x].find('#debug-iPython') != -1:\n",
    "            data.pop(x)\n",
    "    return data"
   ]
  },
  {
   "cell_type": "code",
   "execution_count": 4,
   "metadata": {
    "collapsed": true
   },
   "outputs": [],
   "source": [
    "for file in filenames:\n",
    "    with open(file) as myfile:\n",
    "        data=myfile.read()\n",
    "    data = data.replace('    ', '\\t') # Alterando espaços por tabulação\n",
    "    data = data.split('\\n')\n",
    "    \n",
    "    for x in range(len(data)-1, -1, -1): # Removendo In[\n",
    "        if data[x].find('# In[') != -1:\n",
    "            data.pop(x)\n",
    "            data.pop(x)\n",
    "    \n",
    "    # Inserindo alterações aqui\n",
    "    funcoes = [\n",
    "        removerDebug,\n",
    "        removerDes,\n",
    "        removerEdes,\n",
    "        removerDoxygen,\n",
    "        atualizaSelf,\n",
    "        removeriPython,\n",
    "        inserindoTab,\n",
    "        atualizarMatplotlib,\n",
    "    ]\n",
    "    for a in funcoes:\n",
    "        data = a(data)\n",
    "\n",
    "    for x in range(len(data)-1, -1, -1): # Removendo dois enter\n",
    "        if data[x].strip() is '' and data[x-1].strip() is '':\n",
    "            data.pop(x)\n",
    "    \n",
    "    for x in xrange(0, len(data)): # Removendo linha começo arquivo\n",
    "        if data[x].strip() is not '':\n",
    "            del data[0:x]\n",
    "            break\n",
    "\n",
    "    for x in range(len(data)-1, -1, -1): # Removendo linha final arquivo\n",
    "        if data[x].strip() is '':\n",
    "            data.pop(x)\n",
    "        else:\n",
    "            break\n",
    "    \n",
    "    data = '\\n'.join(data)\n",
    "    data = data.replace('# #', '##') # Corrigindo markdown\n",
    "    \n",
    "    with open(file, 'w') as outfile: # Salvando alterações\n",
    "        outfile.write(data)"
   ]
  },
  {
   "cell_type": "code",
   "execution_count": 11,
   "metadata": {
    "collapsed": true
   },
   "outputs": [],
   "source": []
  },
  {
   "cell_type": "code",
   "execution_count": 20,
   "metadata": {
    "collapsed": true
   },
   "outputs": [],
   "source": []
  },
  {
   "cell_type": "code",
   "execution_count": null,
   "metadata": {
    "collapsed": true
   },
   "outputs": [],
   "source": []
  }
 ],
 "metadata": {
  "kernelspec": {
   "display_name": "Python 2",
   "language": "python",
   "name": "python2"
  },
  "language_info": {
   "codemirror_mode": {
    "name": "ipython",
    "version": 2
   },
   "file_extension": ".py",
   "mimetype": "text/x-python",
   "name": "python",
   "nbconvert_exporter": "python",
   "pygments_lexer": "ipython2",
   "version": "2.7.6"
  }
 },
 "nbformat": 4,
 "nbformat_minor": 1
}
