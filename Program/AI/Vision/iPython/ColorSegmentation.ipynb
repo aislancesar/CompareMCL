{
 "cells": [
  {
   "cell_type": "markdown",
   "metadata": {},
   "source": [
    "---- Imports ----"
   ]
  },
  {
   "cell_type": "code",
   "execution_count": 1,
   "metadata": {
    "collapsed": true
   },
   "outputs": [],
   "source": [
    "# Libraries to be used\n",
    "import sys\n",
    "#des-iPython sys.path.append('../include')\n",
    "#des-iPython sys.path.append('../src')\n",
    "sys.path.append('../../Blackboard/src') #debug-iPython"
   ]
  },
  {
   "cell_type": "code",
   "execution_count": 2,
   "metadata": {
    "collapsed": true
   },
   "outputs": [],
   "source": [
    "# The standard libraries used in the vision system\n",
    "from abc import ABCMeta, abstractmethod # Used to create abstract classes\n",
    "from threading import Thread # Used to create classes with thread functions"
   ]
  },
  {
   "cell_type": "code",
   "execution_count": 3,
   "metadata": {
    "collapsed": false
   },
   "outputs": [
    {
     "ename": "ImportError",
     "evalue": "No module named BasicClass",
     "output_type": "error",
     "traceback": [
      "\u001b[0;31m---------------------------------------------------------------------------\u001b[0m",
      "\u001b[0;31mImportError\u001b[0m                               Traceback (most recent call last)",
      "\u001b[0;32m<ipython-input-3-f52cc943aafa>\u001b[0m in \u001b[0;36m<module>\u001b[0;34m()\u001b[0m\n\u001b[1;32m      1\u001b[0m \u001b[0;31m# Used class developed by RoboFEI-HT\u001b[0m\u001b[0;34m\u001b[0m\u001b[0;34m\u001b[0m\u001b[0m\n\u001b[0;32m----> 2\u001b[0;31m \u001b[0;32mfrom\u001b[0m \u001b[0mBasicClass\u001b[0m \u001b[0;32mimport\u001b[0m \u001b[0;34m*\u001b[0m \u001b[0;31m#\u001b[0m\u001b[0;34m\u001b[0m\u001b[0m\n\u001b[0m\u001b[1;32m      3\u001b[0m \u001b[0;32mfrom\u001b[0m \u001b[0mVisionException\u001b[0m \u001b[0;32mimport\u001b[0m \u001b[0;34m*\u001b[0m \u001b[0;31m# Used to handle exceptions\u001b[0m\u001b[0;34m\u001b[0m\u001b[0m\n",
      "\u001b[0;31mImportError\u001b[0m: No module named BasicClass"
     ]
    }
   ],
   "source": [
    "# Used class developed by RoboFEI-HT\n",
    "from BasicClass import * # \n",
    "from VisionException import * # Used to handle exceptions"
   ]
  },
  {
   "cell_type": "markdown",
   "metadata": {},
   "source": [
    "# ColorSegmentation\n",
    "Class responsible for color segmentation.\n",
    "doxygen-iPython"
   ]
  },
  {
   "cell_type": "code",
   "execution_count": null,
   "metadata": {
    "collapsed": true
   },
   "outputs": [],
   "source": [
    "#des-iPython class ColorSegmentation(BasicClass):\n",
    "#ini-tab -> Iniciando código classe"
   ]
  },
  {
   "cell_type": "code",
   "execution_count": null,
   "metadata": {
    "collapsed": true
   },
   "outputs": [],
   "source": [
    "#ini-iPython - Lista de funções\n",
    "\n",
    "#self-iPython __trackbarHMin\n",
    "#self-iPython __trackbarHMax\n",
    "#self-iPython __trackbarSMin\n",
    "#self-iPython __trackbarSMax\n",
    "#self-iPython __trackbarVMin\n",
    "#self-iPython __trackbarVMax\n",
    "\n",
    "# Lista de variaveis\n",
    "\n",
    "#self-iPython _args\n",
    "#self-iPython _confini\n",
    "\n",
    "#end-iPython"
   ]
  },
  {
   "cell_type": "markdown",
   "metadata": {},
   "source": [
    "---- Variables ----"
   ]
  },
  {
   "cell_type": "markdown",
   "metadata": {},
   "source": [
    "# show\n",
    "Range maximum values.\n",
    "doxygen-iPython"
   ]
  },
  {
   "cell_type": "code",
   "execution_count": null,
   "metadata": {
    "collapsed": true
   },
   "outputs": [],
   "source": [
    "show = False #self-iPython show"
   ]
  },
  {
   "cell_type": "markdown",
   "metadata": {},
   "source": [
    "# upper\n",
    "Range maximum values.\n",
    "doxygen-iPython"
   ]
  },
  {
   "cell_type": "code",
   "execution_count": null,
   "metadata": {
    "collapsed": true
   },
   "outputs": [],
   "source": [
    "__upper = None #self-iPython __upper"
   ]
  },
  {
   "cell_type": "markdown",
   "metadata": {},
   "source": [
    "# lower\n",
    "Range minimum values.\n",
    "doxygen-iPython"
   ]
  },
  {
   "cell_type": "code",
   "execution_count": null,
   "metadata": {
    "collapsed": true
   },
   "outputs": [],
   "source": [
    "__lower = None #self-iPython __lower"
   ]
  },
  {
   "cell_type": "markdown",
   "metadata": {},
   "source": [
    "# Color\n",
    "Color to segmentaion.\n",
    "doxygen-iPython"
   ]
  },
  {
   "cell_type": "code",
   "execution_count": null,
   "metadata": {
    "collapsed": true
   },
   "outputs": [],
   "source": [
    "__color = None #self-iPython __color"
   ]
  },
  {
   "cell_type": "markdown",
   "metadata": {},
   "source": [
    "# Parameters\n",
    "Parameters used to perform color segmentation\n",
    "doxygen-iPython"
   ]
  },
  {
   "cell_type": "code",
   "execution_count": null,
   "metadata": {
    "collapsed": true
   },
   "outputs": [],
   "source": [
    "__parameters = None #self-iPython __parameters"
   ]
  },
  {
   "cell_type": "markdown",
   "metadata": {},
   "source": [
    "# Constructor Class\n",
    "doxygen-iPython"
   ]
  },
  {
   "cell_type": "code",
   "execution_count": null,
   "metadata": {
    "collapsed": false
   },
   "outputs": [],
   "source": [
    "#des-iPython def __init__(self, color, arg):\n",
    "#ini-tab -> Criando construtor\n",
    "print 'Instantiating Basic Class' #debug-iPython\n",
    "color = \"Green\" #debug-iPython\n",
    "__color = color\n",
    "#edes-iPython super(ColorSegmentation, self).__init__(arg, color, \"Segmentation\")\n",
    "_confini = ConfigIni(__color, \"Segmentation\")\n",
    "\n",
    "\n",
    "\n",
    "__parameters = _confini.read()\n",
    "if __parameters == -1:\n",
    "    __parameters = {\n",
    "        'h_min': 0,\n",
    "        's_min': 0,\n",
    "        'v_min': 0,\n",
    "        'h_max': 255,\n",
    "        's_max': 255,\n",
    "        'v_max': 255,\n",
    "        'color_b': 0,\n",
    "        'color_g': 0,\n",
    "        'color_r': 0,\n",
    "    }\n",
    "# define range of color in HSV\n",
    "__lower = np.array([__parameters['h_min'], __parameters['s_min'], __parameters['v_min']])\n",
    "__upper = np.array([__parameters['h_max'], __parameters['s_max'], __parameters['v_max']])\n",
    "\n",
    "#end-tab -> Finalizando construtor"
   ]
  },
  {
   "cell_type": "code",
   "execution_count": null,
   "metadata": {
    "collapsed": true
   },
   "outputs": [],
   "source": [
    "#ini-iPython"
   ]
  },
  {
   "cell_type": "markdown",
   "metadata": {},
   "source": [
    "## Testando construtor"
   ]
  },
  {
   "cell_type": "code",
   "execution_count": null,
   "metadata": {
    "collapsed": false
   },
   "outputs": [],
   "source": [
    "__parameters\n",
    "#end-iPython"
   ]
  },
  {
   "cell_type": "code",
   "execution_count": null,
   "metadata": {
    "collapsed": true
   },
   "outputs": [],
   "source": [
    "#ini-iPython"
   ]
  },
  {
   "cell_type": "markdown",
   "metadata": {},
   "source": [
    "## Imagens e funções para teste"
   ]
  },
  {
   "cell_type": "code",
   "execution_count": null,
   "metadata": {
    "collapsed": false
   },
   "outputs": [],
   "source": [
    "import matplotlib.pyplot as plt\n",
    "%matplotlib inline  "
   ]
  },
  {
   "cell_type": "code",
   "execution_count": null,
   "metadata": {
    "collapsed": true
   },
   "outputs": [],
   "source": [
    "def imshow(img):\n",
    "    if len(img.shape) == 3:\n",
    "        plt.imshow(cv2.cvtColor(img, cv2.COLOR_BGR2RGB))\n",
    "    else:\n",
    "        plt.imshow(cv2.cvtColor(img, cv2.COLOR_GRAY2RGB))\n",
    "    plt.grid()\n",
    "    plt.show()"
   ]
  },
  {
   "cell_type": "code",
   "execution_count": null,
   "metadata": {
    "collapsed": false
   },
   "outputs": [],
   "source": [
    "frame = cv2.imread(\"/home/vinicius/Dropbox/Projeto Mestrado/Codigos/RoboFEI-HT_Debug/AI/Vision/iPython/campo.jpg\")\n",
    "imshow(frame)\n",
    "#end-iPython"
   ]
  },
  {
   "cell_type": "markdown",
   "metadata": {},
   "source": [
    "# trackbarHMin\n",
    "Trackbar control function.\n",
    "doxygen-iPython"
   ]
  },
  {
   "cell_type": "code",
   "execution_count": null,
   "metadata": {
    "collapsed": false
   },
   "outputs": [],
   "source": [
    "#eself-iPython __trackbarHMin\n",
    "#edes-iPython def __trackbarHMin(self, value):\n",
    "def __trackbarHMin(value):\n",
    "    __parameters['h_min'] = min(\n",
    "        value, # Read trackbar value\n",
    "        __parameters['h_max'] - 1 # Minimum possible to be in range.\n",
    "    )\n",
    "    \n",
    "    cv2.setTrackbarPos( # Adjusting value on trackbar\n",
    "            'h_min', # Name of trackbar\n",
    "            __color + ' Segmentation', # Window Name\n",
    "            __parameters['h_min'] # Value to be set\n",
    "        )\n",
    "    \n",
    "    #Updating minimum vector\n",
    "    __lower = np.array([\n",
    "            __parameters['h_min'], # Min value to hue\n",
    "            __parameters['s_min'], # Min value to saturation\n",
    "            __parameters['v_min'] # Min value to value\n",
    "        ]) #self-iPython __trackbarHMin\n",
    "    print __lower #debug-iPython"
   ]
  },
  {
   "cell_type": "markdown",
   "metadata": {},
   "source": [
    "# trackbarHMax\n",
    "Trackbar control function.\n",
    "doxygen-iPython"
   ]
  },
  {
   "cell_type": "code",
   "execution_count": null,
   "metadata": {
    "collapsed": true
   },
   "outputs": [],
   "source": [
    "#eself-iPython __trackbarHMax\n",
    "#edes-iPython def __trackbarHMax(self, value):\n",
    "def __trackbarHMax(value):\n",
    "    __parameters['h_max'] = max(\n",
    "        value, # Read trackbar value\n",
    "        __parameters['h_min'] + 1 # Maximum possible to be in range.\n",
    "    )\n",
    "    \n",
    "    cv2.setTrackbarPos( # Adjusting value on trackbar\n",
    "            'h_max', # Name of trackbar\n",
    "            __color + ' Segmentation', # Window Name\n",
    "            __parameters['h_max'] # Value to be set\n",
    "        )\n",
    "    \n",
    "    #Updating maximum vector\n",
    "    __upper = np.array([\n",
    "            __parameters['h_max'], # Max value to hue\n",
    "            __parameters['s_max'], # Max value to saturation\n",
    "            __parameters['v_max'] # Max value to value\n",
    "        ]) #self-iPython __trackbarHMax"
   ]
  },
  {
   "cell_type": "markdown",
   "metadata": {},
   "source": [
    "# trackbarSMin\n",
    "Trackbar control function.\n",
    "doxygen-iPython"
   ]
  },
  {
   "cell_type": "code",
   "execution_count": null,
   "metadata": {
    "collapsed": true
   },
   "outputs": [],
   "source": [
    "#eself-iPython __trackbarSMin\n",
    "#edes-iPython def __trackbarSMin(self, value):\n",
    "def __trackbarSMin(value):\n",
    "    __parameters['s_min'] = min(\n",
    "        value, # Read trackbar value\n",
    "        __parameters['s_max'] - 1 # Minimum possible to be in range.\n",
    "    )\n",
    "    \n",
    "    cv2.setTrackbarPos( # Adjusting value on trackbar\n",
    "            's_min', # Name of trackbar\n",
    "            __color + ' Segmentation', # Window Name\n",
    "            __parameters['s_min'] # Value to be set\n",
    "        )\n",
    "    \n",
    "    #Updating minimum vector\n",
    "    __lower = np.array([\n",
    "            __parameters['h_min'], # Min value to hue\n",
    "            __parameters['s_min'], # Min value to saturation\n",
    "            __parameters['v_min'] # Min value to value\n",
    "        ]) #self-iPython __trackbarSMin"
   ]
  },
  {
   "cell_type": "markdown",
   "metadata": {},
   "source": [
    "# trackbarSMax\n",
    "Trackbar control function.\n",
    "doxygen-iPython"
   ]
  },
  {
   "cell_type": "code",
   "execution_count": null,
   "metadata": {
    "collapsed": true
   },
   "outputs": [],
   "source": [
    "#eself-iPython __trackbarSMax\n",
    "#edes-iPython def __trackbarSMax(self, value):\n",
    "def __trackbarSMax(value):\n",
    "    __parameters['s_max'] = max(\n",
    "        value, # Read trackbar value\n",
    "        __parameters['s_min'] + 1 # Maximum possible to be in range.\n",
    "    )\n",
    "    \n",
    "    cv2.setTrackbarPos( # Adjusting value on trackbar\n",
    "            's_max', # Name of trackbar\n",
    "            __color + ' Segmentation', # Window Name\n",
    "            __parameters['s_max'] # Value to be set\n",
    "        )\n",
    "    \n",
    "    #Updating maximum vector\n",
    "    __upper = np.array([\n",
    "            __parameters['h_max'], # Max value to hue\n",
    "            __parameters['s_max'], # Max value to saturation\n",
    "            __parameters['v_max'] # Max value to value\n",
    "        ]) #self-iPython __trackbarSMax"
   ]
  },
  {
   "cell_type": "markdown",
   "metadata": {},
   "source": [
    "# trackbarVMin\n",
    "Trackbar control function.\n",
    "doxygen-iPython"
   ]
  },
  {
   "cell_type": "code",
   "execution_count": null,
   "metadata": {
    "collapsed": true
   },
   "outputs": [],
   "source": [
    "#eself-iPython __trackbarVMin\n",
    "#edes-iPython def __trackbarVMin(self, value):\n",
    "def __trackbarVMin(value):\n",
    "    __parameters['v_min'] = min(\n",
    "        value, # Read trackbar value\n",
    "        __parameters['v_max'] - 1 # Minimum possible to be in range.\n",
    "    )\n",
    "    \n",
    "    cv2.setTrackbarPos( # Adjusting value on trackbar\n",
    "            'v_min', # Name of trackbar\n",
    "            __color + ' Segmentation', # Window Name\n",
    "            __parameters['v_min'] # Value to be set\n",
    "        )\n",
    "    \n",
    "    #Updating minimum vector\n",
    "    __lower = np.array([\n",
    "            __parameters['h_min'], # Min value to hue\n",
    "            __parameters['s_min'], # Min value to saturation\n",
    "            __parameters['v_min'] # Min value to value\n",
    "        ]) #self-iPython __trackbarVMin"
   ]
  },
  {
   "cell_type": "markdown",
   "metadata": {},
   "source": [
    "# trackbarVMax\n",
    "Trackbar control function.\n",
    "doxygen-iPython"
   ]
  },
  {
   "cell_type": "code",
   "execution_count": null,
   "metadata": {
    "collapsed": true
   },
   "outputs": [],
   "source": [
    "#eself-iPython __trackbarVMax\n",
    "#edes-iPython def __trackbarVMax(self, value):\n",
    "def __trackbarVMax(value):\n",
    "    __parameters['v_max'] = max(\n",
    "        value, # Read trackbar value\n",
    "        __parameters['v_min'] + 1 # Maximum possible to be in range.\n",
    "    )\n",
    "    \n",
    "    cv2.setTrackbarPos( # Adjusting value on trackbar\n",
    "            'v_max', # Name of trackbar\n",
    "            __color + ' Segmentation', # Window Name\n",
    "            __parameters['v_max'] # Value to be set\n",
    "        )\n",
    "    \n",
    "    #Updating maximum vector\n",
    "    __upper = np.array([\n",
    "            __parameters['h_max'], # Max value to hue\n",
    "            __parameters['s_max'], # Max value to saturation\n",
    "            __parameters['v_max'] # Max value to value\n",
    "        ]) #self-iPython __trackbarVMax"
   ]
  },
  {
   "cell_type": "markdown",
   "metadata": {},
   "source": [
    "# segmentation\n",
    "Function that performs the segmentation of a given color and returns a mask\n",
    "doxygen-iPython"
   ]
  },
  {
   "cell_type": "code",
   "execution_count": null,
   "metadata": {
    "collapsed": false
   },
   "outputs": [],
   "source": [
    "#edes-iPython def segmentation(self, img):\n",
    "def segmentation(img):\n",
    "    global show #debug-iPython\n",
    "    hsv = cv2.cvtColor(img, cv2.COLOR_BGR2HSV)\n",
    "    mask = cv2.inRange(hsv, __lower, __upper)\n",
    "    if show == False:\n",
    "        return mask\n",
    "    else:\n",
    "        blank_image = np.zeros(\n",
    "            img.shape,\n",
    "            np.uint8\n",
    "        )\n",
    "        \n",
    "        blank_image[:,:,0] = __parameters['color_b']\n",
    "        blank_image[:,:,1] = __parameters['color_g']\n",
    "        blank_image[:,:,2] = __parameters['color_r']\n",
    "        \n",
    "        img = cv2.bitwise_and(\n",
    "            img,\n",
    "            img,\n",
    "            blank_image,\n",
    "            mask = 255 - mask\n",
    "        )\n",
    "        \n",
    "        scale = 640.0/img.shape[1]\n",
    "        \n",
    "        img =cv2.resize(\n",
    "            img,\n",
    "            (0, 0),\n",
    "            fx=scale,\n",
    "            fy=scale\n",
    "        )\n",
    "        \n",
    "        cv2.imshow(\n",
    "            __color + ' Segmentation',\n",
    "            img\n",
    "        )\n",
    "        \n",
    "        if show == True and show != \"\":\n",
    "            show = \"\"\n",
    "            cv2.createTrackbar(\n",
    "                'h_min',\n",
    "                __color + ' Segmentation',\n",
    "                __parameters['h_min'],\n",
    "                255,\n",
    "                __trackbarHMin,\n",
    "            )\n",
    "\n",
    "            cv2.createTrackbar(\n",
    "                'h_max',\n",
    "                __color + ' Segmentation',\n",
    "                __parameters['h_max'],\n",
    "                255,\n",
    "                __trackbarHMax,\n",
    "            )\n",
    "\n",
    "            cv2.createTrackbar(\n",
    "                's_min',\n",
    "                __color + ' Segmentation',\n",
    "                __parameters['s_min'],\n",
    "                255,\n",
    "                __trackbarSMin,\n",
    "            )\n",
    "\n",
    "            cv2.createTrackbar(\n",
    "                's_max',\n",
    "                __color + ' Segmentation',\n",
    "                __parameters['s_max'],\n",
    "                255,\n",
    "                __trackbarSMax,\n",
    "            )\n",
    "\n",
    "            cv2.createTrackbar(\n",
    "                'v_min',\n",
    "                __color + ' Segmentation',\n",
    "                __parameters['v_min'],\n",
    "                255,\n",
    "                __trackbarVMin,\n",
    "            )\n",
    "\n",
    "            cv2.createTrackbar(\n",
    "                'v_max',\n",
    "                __color + ' Segmentation',\n",
    "                __parameters['v_max'],\n",
    "                255,\n",
    "                __trackbarVMax,\n",
    "            )\n",
    "        \n",
    "        return mask"
   ]
  },
  {
   "cell_type": "code",
   "execution_count": null,
   "metadata": {
    "collapsed": true
   },
   "outputs": [],
   "source": [
    "#ini-iPython"
   ]
  },
  {
   "cell_type": "markdown",
   "metadata": {},
   "source": [
    "## Teste segmentation"
   ]
  },
  {
   "cell_type": "code",
   "execution_count": null,
   "metadata": {
    "collapsed": false
   },
   "outputs": [],
   "source": [
    "__parameters['h_min'], __parameters['s_min'], __parameters['v_min'] = 31, 63, 0\n",
    "__parameters['h_max'], __parameters['s_max'], __parameters['v_max'] = 63, 255, 255\n",
    "__lower = np.array([__parameters['h_min'], __parameters['s_min'], __parameters['v_min']])\n",
    "__upper = np.array([__parameters['h_max'], __parameters['s_max'], __parameters['v_max']])\n",
    "\n",
    "show = True\n",
    "\n",
    "mask = segmentation(frame.copy())\n",
    "imshow(cv2.bitwise_and(frame.copy(), frame.copy(), mask = 255 - mask))\n",
    "cv2.waitKey(0) #debug-iPython\n",
    "cv2.destroyAllWindows() #debug-iPython\n",
    "__parameters\n",
    "#end-iPython"
   ]
  },
  {
   "cell_type": "code",
   "execution_count": null,
   "metadata": {
    "collapsed": true
   },
   "outputs": [],
   "source": [
    "#ini-iPython"
   ]
  },
  {
   "cell_type": "markdown",
   "metadata": {
    "collapsed": true
   },
   "source": [
    "## Testando while"
   ]
  },
  {
   "cell_type": "code",
   "execution_count": null,
   "metadata": {
    "collapsed": false
   },
   "outputs": [],
   "source": [
    "__parameters['h_min'], __parameters['s_min'], __parameters['v_min'] = 31, 63, 0\n",
    "__parameters['h_max'], __parameters['s_max'], __parameters['v_max'] = 63, 255, 255\n",
    "__lower = np.array([__parameters['h_min'], __parameters['s_min'], __parameters['v_min']])\n",
    "__upper = np.array([__parameters['h_max'], __parameters['s_max'], __parameters['v_max']])\n",
    "\n",
    "show = True\n",
    "while True:\n",
    "    mask = segmentation(frame.copy())\n",
    "    if cv2.waitKey(1) & 0xFF == ord('q'):\n",
    "        break\n",
    "cv2.destroyAllWindows() #debug-iPython\n",
    "__parameters\n",
    "#end-iPython"
   ]
  },
  {
   "cell_type": "markdown",
   "metadata": {},
   "source": [
    "# finalize\n",
    "doxygen-iPython"
   ]
  },
  {
   "cell_type": "code",
   "execution_count": null,
   "metadata": {
    "collapsed": true
   },
   "outputs": [],
   "source": [
    "#edes-iPython def finalize(self):\n",
    "def finalize():\n",
    "    super(ColorSegmentation, self).finalize(__parameters)"
   ]
  },
  {
   "cell_type": "code",
   "execution_count": null,
   "metadata": {
    "collapsed": true
   },
   "outputs": [],
   "source": [
    "#end-tab -> Fim código classe"
   ]
  }
 ],
 "metadata": {
  "kernelspec": {
   "display_name": "Python 2",
   "language": "python",
   "name": "python2"
  },
  "language_info": {
   "codemirror_mode": {
    "name": "ipython",
    "version": 2
   },
   "file_extension": ".py",
   "mimetype": "text/x-python",
   "name": "python",
   "nbconvert_exporter": "python",
   "pygments_lexer": "ipython2",
   "version": "2.7.6"
  }
 },
 "nbformat": 4,
 "nbformat_minor": 1
}
