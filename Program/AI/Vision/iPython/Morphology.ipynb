{
 "cells": [
  {
   "cell_type": "markdown",
   "metadata": {},
   "source": [
    "---- Imports ----"
   ]
  },
  {
   "cell_type": "code",
   "execution_count": 1,
   "metadata": {
    "collapsed": true
   },
   "outputs": [],
   "source": [
    "# Libraries to be used\n",
    "import sys\n",
    "#des-iPython sys.path.append('../include')\n",
    "#des-iPython sys.path.append('../src')\n",
    "sys.path.append('../../Blackboard/src') #debug-iPython"
   ]
  },
  {
   "cell_type": "code",
   "execution_count": 2,
   "metadata": {
    "collapsed": true
   },
   "outputs": [],
   "source": [
    "# The standard libraries used in the vision system\n"
   ]
  },
  {
   "cell_type": "code",
   "execution_count": 3,
   "metadata": {
    "collapsed": false
   },
   "outputs": [
    {
     "name": "stdout",
     "output_type": "stream",
     "text": [
      "BasicClass - Opencv Version: 3.2.0-dev\n"
     ]
    }
   ],
   "source": [
    "# Used class developed by RoboFEI-HT\n",
    "from BasicClass import * # \n",
    "from VisionException import * # Used to handle exceptions"
   ]
  },
  {
   "cell_type": "markdown",
   "metadata": {},
   "source": [
    "# Morphology\n",
    ".\n",
    "doxygen-iPython"
   ]
  },
  {
   "cell_type": "code",
   "execution_count": 4,
   "metadata": {
    "collapsed": true
   },
   "outputs": [],
   "source": [
    "#des-iPython class Morphology(BasicClass):\n",
    "#ini-tab -> Iniciando código classe"
   ]
  },
  {
   "cell_type": "code",
   "execution_count": 5,
   "metadata": {
    "collapsed": true
   },
   "outputs": [],
   "source": [
    "#ini-iPython - Lista de funções\n",
    "\n",
    "#self-iPython morphologicalTransformations\n",
    "\n",
    "# Lista de variaveis\n",
    "\n",
    "#self-iPython _confini\n",
    "\n",
    "#end-iPython"
   ]
  },
  {
   "cell_type": "markdown",
   "metadata": {},
   "source": [
    "---- Variables ----"
   ]
  },
  {
   "cell_type": "markdown",
   "metadata": {},
   "source": [
    "# show\n",
    ".\n",
    "doxygen-iPython"
   ]
  },
  {
   "cell_type": "code",
   "execution_count": 6,
   "metadata": {
    "collapsed": true
   },
   "outputs": [],
   "source": [
    "show = False #self-iPython show"
   ]
  },
  {
   "cell_type": "markdown",
   "metadata": {},
   "source": [
    "# color\n",
    ".\n",
    "doxygen-iPython"
   ]
  },
  {
   "cell_type": "code",
   "execution_count": 7,
   "metadata": {
    "collapsed": true
   },
   "outputs": [],
   "source": [
    "__color = False #self-iPython __color"
   ]
  },
  {
   "cell_type": "markdown",
   "metadata": {},
   "source": [
    "# func\n",
    ".\n",
    "doxygen-iPython"
   ]
  },
  {
   "cell_type": "code",
   "execution_count": 8,
   "metadata": {
    "collapsed": true
   },
   "outputs": [],
   "source": [
    "__func = False #self-iPython __func"
   ]
  },
  {
   "cell_type": "markdown",
   "metadata": {},
   "source": [
    "# parameters\n",
    ".\n",
    "doxygen-iPython"
   ]
  },
  {
   "cell_type": "code",
   "execution_count": 9,
   "metadata": {
    "collapsed": true
   },
   "outputs": [],
   "source": [
    "__parameters = False #self-iPython __parameters"
   ]
  },
  {
   "cell_type": "markdown",
   "metadata": {},
   "source": [
    "# kennel\n",
    ".\n",
    "doxygen-iPython"
   ]
  },
  {
   "cell_type": "code",
   "execution_count": 11,
   "metadata": {
    "collapsed": true
   },
   "outputs": [],
   "source": [
    "__kennel = False #self-iPython __kennel"
   ]
  },
  {
   "cell_type": "markdown",
   "metadata": {},
   "source": [
    "# Constructor Class\n",
    "doxygen-iPython"
   ]
  },
  {
   "cell_type": "code",
   "execution_count": 12,
   "metadata": {
    "collapsed": false
   },
   "outputs": [
    {
     "name": "stdout",
     "output_type": "stream",
     "text": [
      "Classe Morphology\n"
     ]
    }
   ],
   "source": [
    "#des-iPython def __init__(self, color, func, arg):\n",
    "#ini-tab -> Criando construtor\n",
    "func = 'Closing' #debug-iPython\n",
    "color = 'Green' #debug-iPython\n",
    "print 'Classe Morphology' #debug-iPython\n",
    "__func = func\n",
    "__color = color\n",
    "#edes-iPython super(Morphology, self).__init__(arg, __color, __func)\n",
    "_confini = ConfigIni(__color, __func)\n",
    "\n",
    "__parameters = _confini.read()\n",
    "if __parameters == -1:\n",
    "    __parameters = {\n",
    "        'size_kennel': 1,\n",
    "        'interaction': 1,\n",
    "        'morphological': 3,\n",
    "    }\n",
    "    \n",
    "__kennel = cv2.getStructuringElement(\n",
    "    cv2.MORPH_ELLIPSE,\n",
    "    (\n",
    "        __parameters['size_kennel'],\n",
    "        __parameters['size_kennel']\n",
    "    )\n",
    ")\n",
    "\n",
    "#end-tab -> Finalizando construtor"
   ]
  },
  {
   "cell_type": "code",
   "execution_count": 13,
   "metadata": {
    "collapsed": true
   },
   "outputs": [],
   "source": [
    "#ini-iPython"
   ]
  },
  {
   "cell_type": "markdown",
   "metadata": {},
   "source": [
    "## Testando construtor"
   ]
  },
  {
   "cell_type": "code",
   "execution_count": 14,
   "metadata": {
    "collapsed": false
   },
   "outputs": [
    {
     "data": {
      "text/plain": [
       "{'interaction': 1, 'morphological': 3, 'size_kennel': 1}"
      ]
     },
     "execution_count": 14,
     "metadata": {},
     "output_type": "execute_result"
    }
   ],
   "source": [
    "__parameters\n",
    "#end-iPython"
   ]
  },
  {
   "cell_type": "code",
   "execution_count": 15,
   "metadata": {
    "collapsed": true
   },
   "outputs": [],
   "source": [
    "#ini-iPython"
   ]
  },
  {
   "cell_type": "markdown",
   "metadata": {},
   "source": [
    "## Imagens e funções para teste"
   ]
  },
  {
   "cell_type": "code",
   "execution_count": 16,
   "metadata": {
    "collapsed": true
   },
   "outputs": [],
   "source": [
    "import matplotlib.pyplot as plt\n",
    "from ColorSegmentation import *\n",
    "%matplotlib inline  "
   ]
  },
  {
   "cell_type": "code",
   "execution_count": 17,
   "metadata": {
    "collapsed": true
   },
   "outputs": [],
   "source": [
    "def imshow(img):\n",
    "    if len(img.shape) == 3:\n",
    "        plt.imshow(cv2.cvtColor(img, cv2.COLOR_BGR2RGB))\n",
    "    else:\n",
    "        plt.imshow(cv2.cvtColor(img, cv2.COLOR_GRAY2RGB))\n",
    "    plt.grid()\n",
    "    plt.show()"
   ]
  },
  {
   "cell_type": "code",
   "execution_count": 18,
   "metadata": {
    "collapsed": false
   },
   "outputs": [
    {
     "data": {
      "image/png": "[encoded data removed]",
      "text/plain": [
       "<matplotlib.figure.Figure at 0x7f094401a510>"
      ]
     },
     "metadata": {},
     "output_type": "display_data"
    }
   ],
   "source": [
    "frame = cv2.imread(\"/home/vinicius/Dropbox/Projeto Mestrado/Codigos/RoboFEI-HT_Debug/AI/Vision/iPython/campo.png\")\n",
    "a = ColorSegmentation('Green', None)\n",
    "a.show = True\n",
    "while True:\n",
    "    temp = a.segmentation(frame.copy())\n",
    "    if cv2.waitKey(1) & 0xFF == ord('q'):\n",
    "        break\n",
    "cv2.destroyAllWindows()\n",
    "\n",
    "frame = temp\n",
    "imshow(frame)\n",
    "#end-iPython"
   ]
  },
  {
   "cell_type": "markdown",
   "metadata": {},
   "source": [
    "# morphologicalTransformations\n",
    "doxygen-iPython"
   ]
  },
  {
   "cell_type": "code",
   "execution_count": 19,
   "metadata": {
    "collapsed": true
   },
   "outputs": [],
   "source": [
    "#eself-iPython morphologicalTransformations\n",
    "#edes-iPython def morphologicalTransformations(self, mask, frame = None):\n",
    "def morphologicalTransformations(mask, frame = None):\n",
    "    mask = cv2.morphologyEx(\n",
    "        mask,\n",
    "        __parameters['morphological'],\n",
    "        __kennel,\n",
    "        __parameters['interaction']\n",
    "    )\n",
    "    if show == False:\n",
    "        return mask\n",
    "    else:\n",
    "        \n",
    "        cv2.imshow(__color + ' ' + __func, mask)\n",
    "        return mask #self-iPython morphologicalTransformations"
   ]
  },
  {
   "cell_type": "code",
   "execution_count": 20,
   "metadata": {
    "collapsed": true
   },
   "outputs": [],
   "source": [
    "#ini-iPython"
   ]
  },
  {
   "cell_type": "markdown",
   "metadata": {},
   "source": [
    "## Teste Morphological Transformations"
   ]
  },
  {
   "cell_type": "code",
   "execution_count": 21,
   "metadata": {
    "collapsed": false
   },
   "outputs": [
    {
     "data": {
      "image/png": "[encoded data removed]",
      "text/plain": [
       "<matplotlib.figure.Figure at 0x7f0907b34410>"
      ]
     },
     "metadata": {},
     "output_type": "display_data"
    }
   ],
   "source": [
    "# __parameters['size_kennel'] = 100\n",
    "# __parameters['interaction'] = 1\n",
    "    \n",
    "# __kennel = cv2.getStructuringElement(\n",
    "#     cv2.MORPH_ELLIPSE,\n",
    "#     (\n",
    "#         __parameters['size_kennel'],\n",
    "#         __parameters['size_kennel']\n",
    "#     )\n",
    "# )\n",
    "\n",
    "mask = morphologicalTransformations(frame.copy())\n",
    "imshow(mask)\n",
    "#end-iPython"
   ]
  },
  {
   "cell_type": "markdown",
   "metadata": {
    "collapsed": true
   },
   "source": [
    "# finalize\n",
    "doxygen-iPython"
   ]
  },
  {
   "cell_type": "code",
   "execution_count": null,
   "metadata": {
    "collapsed": true
   },
   "outputs": [],
   "source": [
    "#edes-iPython def finalize(self):\n",
    "def finalize( ):\n",
    "    super(Morphology, self).finalize(__parameters)"
   ]
  },
  {
   "cell_type": "code",
   "execution_count": null,
   "metadata": {
    "collapsed": true
   },
   "outputs": [],
   "source": [
    "#end-tab -> Finalizando código classe"
   ]
  }
 ],
 "metadata": {
  "kernelspec": {
   "display_name": "Python 2",
   "language": "python",
   "name": "python2"
  },
  "language_info": {
   "codemirror_mode": {
    "name": "ipython",
    "version": 2
   },
   "file_extension": ".py",
   "mimetype": "text/x-python",
   "name": "python",
   "nbconvert_exporter": "python",
   "pygments_lexer": "ipython2",
   "version": "2.7.6"
  }
 },
 "nbformat": 4,
 "nbformat_minor": 1
}
