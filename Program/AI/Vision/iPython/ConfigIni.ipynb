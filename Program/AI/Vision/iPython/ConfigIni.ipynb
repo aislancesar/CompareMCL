{
 "cells": [
  {
   "cell_type": "markdown",
   "metadata": {
    "collapsed": true
   },
   "source": [
    "---- Imports ----"
   ]
  },
  {
   "cell_type": "code",
   "execution_count": 1,
   "metadata": {
    "collapsed": true
   },
   "outputs": [],
   "source": [
    "# Libraries to be used\n",
    "#des-iPython import sys\n",
    "#des-iPython sys.path.append('../include')\n",
    "#des-iPython sys.path.append('../src')"
   ]
  },
  {
   "cell_type": "code",
   "execution_count": 2,
   "metadata": {
    "collapsed": true
   },
   "outputs": [],
   "source": [
    "# The standard libraries used in the vision system\n",
    "import configparser # Used to read ini files"
   ]
  },
  {
   "cell_type": "code",
   "execution_count": 3,
   "metadata": {
    "collapsed": false
   },
   "outputs": [
    {
     "ename": "ImportError",
     "evalue": "No module named VisionException",
     "output_type": "error",
     "traceback": [
      "\u001b[0;31m---------------------------------------------------------------------------\u001b[0m",
      "\u001b[0;31mImportError\u001b[0m                               Traceback (most recent call last)",
      "\u001b[0;32m<ipython-input-3-09f06f7faaa5>\u001b[0m in \u001b[0;36m<module>\u001b[0;34m()\u001b[0m\n\u001b[1;32m      1\u001b[0m \u001b[0;31m# Used class developed by RoboFEI-HT\u001b[0m\u001b[0;34m\u001b[0m\u001b[0;34m\u001b[0m\u001b[0m\n\u001b[0;32m----> 2\u001b[0;31m \u001b[0;32mfrom\u001b[0m \u001b[0mVisionException\u001b[0m \u001b[0;32mimport\u001b[0m \u001b[0;34m*\u001b[0m \u001b[0;31m# Used to handle exceptions\u001b[0m\u001b[0;34m\u001b[0m\u001b[0m\n\u001b[0m",
      "\u001b[0;31mImportError\u001b[0m: No module named VisionException"
     ]
    }
   ],
   "source": [
    "# Used class developed by RoboFEI-HT\n",
    "from VisionException import * # Used to handle exceptions"
   ]
  },
  {
   "cell_type": "markdown",
   "metadata": {
    "collapsed": true
   },
   "source": [
    "# Class to config ini\n",
    "Class used to read the ini file from the view.\n",
    "doxygen-iPython"
   ]
  },
  {
   "cell_type": "code",
   "execution_count": 4,
   "metadata": {
    "collapsed": true
   },
   "outputs": [],
   "source": [
    "#des-iPython class ConfigIni( ):\n",
    "#ini-tab -> Iniciando código classe"
   ]
  },
  {
   "cell_type": "markdown",
   "metadata": {},
   "source": [
    "# Dictionary\n",
    "Section used.\n",
    "doxygen-iPython"
   ]
  },
  {
   "cell_type": "code",
   "execution_count": 5,
   "metadata": {
    "collapsed": true
   },
   "outputs": [],
   "source": [
    "__dictionary = None #self-iPython __dictionary"
   ]
  },
  {
   "cell_type": "markdown",
   "metadata": {},
   "source": [
    "# myobject\n",
    "doxygen-iPython"
   ]
  },
  {
   "cell_type": "code",
   "execution_count": 6,
   "metadata": {
    "collapsed": true
   },
   "outputs": [],
   "source": [
    "__myobject = None #self-iPython __myobject"
   ]
  },
  {
   "cell_type": "markdown",
   "metadata": {},
   "source": [
    "# function\n",
    "doxygen-iPython"
   ]
  },
  {
   "cell_type": "code",
   "execution_count": 7,
   "metadata": {
    "collapsed": true
   },
   "outputs": [],
   "source": [
    "__function = None #self-iPython __function"
   ]
  },
  {
   "cell_type": "markdown",
   "metadata": {},
   "source": [
    "# __conf\n",
    "doxygen-iPython"
   ]
  },
  {
   "cell_type": "code",
   "execution_count": 8,
   "metadata": {
    "collapsed": true
   },
   "outputs": [],
   "source": [
    "__conf = None #self-iPython __conf"
   ]
  },
  {
   "cell_type": "markdown",
   "metadata": {},
   "source": [
    "# Constructor Class\n",
    "doxygen-iPython"
   ]
  },
  {
   "cell_type": "code",
   "execution_count": 9,
   "metadata": {
    "collapsed": false
   },
   "outputs": [
    {
     "name": "stdout",
     "output_type": "stream",
     "text": [
      "Dicionario:  -1\n"
     ]
    },
    {
     "name": "stderr",
     "output_type": "stream",
     "text": [
      "/usr/local/lib/python2.7/dist-packages/ipykernel/__main__.py:11: DeprecationWarning: You passed a bytestring as `filenames`. This will not work on Python 3. Use `cp.read_file()` or switch to using Unicode strings across the board.\n"
     ]
    }
   ],
   "source": [
    "#des-iPython def __init__(self, obj, func):\n",
    "#ini-tab -> Criando construtor\n",
    "#ini-iPython\n",
    "obj = \"Rosto\"\n",
    "func = \"Haar\"\n",
    "#end-iPython\n",
    "__myobject = obj\n",
    "__function = func\n",
    "__conf = configparser.RawConfigParser()\n",
    "#edes-iPython if __conf.read(\"./Data/config.ini\") is not [] and (__myobject + \" \" + __function).upper() in __conf.sections():\n",
    "if __conf.read(\"../Data/config.ini\") is not [] and (__myobject + \" \" + __function).upper() in __conf.sections():\n",
    "    __dictionary = {}\n",
    "    for key in __conf[(__myobject + \" \" + __function).upper()].keys():\n",
    "        try:\n",
    "            __dictionary[str(key)] = __conf.getint((__myobject + \" \" + __function).upper(), str(key))\n",
    "            continue\n",
    "        except:\n",
    "            pass\n",
    "\n",
    "        try:\n",
    "            __dictionary[str(key)] = __conf.getfloat((__myobject + \" \" + __function).upper(), str(key))\n",
    "            continue\n",
    "        except:\n",
    "            pass\n",
    "\n",
    "        try:\n",
    "            __dictionary[str(key)] = __conf.getboolean((__myobject + \" \" + __function).upper(), str(key))\n",
    "            continue\n",
    "        except:\n",
    "            pass\n",
    "\n",
    "        try:\n",
    "            __dictionary[str(key)] = __conf.get((__myobject + \" \" + __function).upper(), str(key))\n",
    "            continue\n",
    "        except:\n",
    "            pass\n",
    "else:\n",
    "    __dictionary = -1\n",
    "\n",
    "print \"Dicionario: \", __dictionary #debug-iPython"
   ]
  },
  {
   "cell_type": "code",
   "execution_count": 10,
   "metadata": {
    "collapsed": true
   },
   "outputs": [],
   "source": [
    "#end-tab -> finalizendo construtor"
   ]
  },
  {
   "cell_type": "code",
   "execution_count": 11,
   "metadata": {
    "collapsed": true
   },
   "outputs": [],
   "source": [
    "#ini-iPython"
   ]
  },
  {
   "cell_type": "markdown",
   "metadata": {},
   "source": [
    "## Teste construtor"
   ]
  },
  {
   "cell_type": "code",
   "execution_count": 15,
   "metadata": {
    "collapsed": false
   },
   "outputs": [],
   "source": [
    "__dictionary = {}\n",
    "__dictionary[\"subtitler\"] = 0\n",
    "\n",
    "#end-iPython"
   ]
  },
  {
   "cell_type": "markdown",
   "metadata": {},
   "source": [
    "# read\n",
    "doxygen-iPython"
   ]
  },
  {
   "cell_type": "code",
   "execution_count": null,
   "metadata": {
    "collapsed": true
   },
   "outputs": [],
   "source": [
    "#edes-iPython def read(self):\n",
    "def read():\n",
    "    return __dictionary"
   ]
  },
  {
   "cell_type": "code",
   "execution_count": null,
   "metadata": {
    "collapsed": true
   },
   "outputs": [],
   "source": [
    "#ini-iPython"
   ]
  },
  {
   "cell_type": "code",
   "execution_count": null,
   "metadata": {
    "collapsed": false
   },
   "outputs": [],
   "source": [
    "read()\n",
    "#end-iPython"
   ]
  },
  {
   "cell_type": "markdown",
   "metadata": {},
   "source": [
    "# finalize\n",
    "doxygen-iPython"
   ]
  },
  {
   "cell_type": "code",
   "execution_count": 35,
   "metadata": {
    "collapsed": true
   },
   "outputs": [],
   "source": [
    "#edes-iPython def finalize(self, dictionary):\n",
    "def finalize(dictionary):\n",
    "    __dictionary = dictionary # Saving dictionary in class\n",
    "    \n",
    "    #edes-iPython __conf.read(\"./Data/config.ini\")\n",
    "    __conf.read(\"../Data/config.ini\")\n",
    "        \n",
    "    #edes-iPython with open('./Data/config.ini', 'wb') as configfile:\n",
    "    with open('../Data/config.ini', 'wb') as configfile:\n",
    "        __conf[(__myobject + \" \" + __function).upper()] = __dictionary\n",
    "        __conf.write(configfile)"
   ]
  },
  {
   "cell_type": "code",
   "execution_count": 36,
   "metadata": {
    "collapsed": true
   },
   "outputs": [],
   "source": [
    "#ini-iPython"
   ]
  },
  {
   "cell_type": "markdown",
   "metadata": {},
   "source": [
    "## Testando função finalize"
   ]
  },
  {
   "cell_type": "code",
   "execution_count": 37,
   "metadata": {
    "collapsed": false
   },
   "outputs": [
    {
     "name": "stderr",
     "output_type": "stream",
     "text": [
      "/usr/local/lib/python2.7/dist-packages/ipykernel/__main__.py:5: DeprecationWarning: You passed a bytestring as `filenames`. This will not work on Python 3. Use `cp.read_file()` or switch to using Unicode strings across the board.\n"
     ]
    }
   ],
   "source": [
    "__myobject = 'CAMERA'\n",
    "__function = 'PARAMETERS'\n",
    "test = {\n",
    "    \"ola\": 2,\n",
    "    \"olaas\": 3\n",
    "}\n",
    "finalize(test)\n",
    "\n",
    "__myobject = \"Batata\"\n",
    "\n",
    "finalize(test)\n",
    "#end-iPython"
   ]
  },
  {
   "cell_type": "code",
   "execution_count": 38,
   "metadata": {
    "collapsed": true
   },
   "outputs": [],
   "source": [
    "#end-tab -> finalizendo classe"
   ]
  },
  {
   "cell_type": "code",
   "execution_count": null,
   "metadata": {
    "collapsed": true
   },
   "outputs": [],
   "source": []
  }
 ],
 "metadata": {
  "kernelspec": {
   "display_name": "Python 2",
   "language": "python",
   "name": "python2"
  },
  "language_info": {
   "codemirror_mode": {
    "name": "ipython",
    "version": 2
   },
   "file_extension": ".py",
   "mimetype": "text/x-python",
   "name": "python",
   "nbconvert_exporter": "python",
   "pygments_lexer": "ipython2",
   "version": "2.7.6"
  }
 },
 "nbformat": 4,
 "nbformat_minor": 2
}
