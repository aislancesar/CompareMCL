{
 "cells": [
  {
   "cell_type": "code",
   "execution_count": 1,
   "metadata": {
    "collapsed": true
   },
   "outputs": [],
   "source": [
    "# Libraries to be used\n",
    "import sys\n",
    "#des-iPython sys.path.append('../include')\n",
    "#des-iPython sys.path.append('../src')"
   ]
  },
  {
   "cell_type": "code",
   "execution_count": 2,
   "metadata": {
    "collapsed": false
   },
   "outputs": [],
   "source": [
    "import os # Library for interaction with the system\n",
    "from copy import copy\n",
    "import time\n",
    "# from datetime import *"
   ]
  },
  {
   "cell_type": "code",
   "execution_count": 3,
   "metadata": {
    "collapsed": false
   },
   "outputs": [
    {
     "name": "stdout",
     "output_type": "stream",
     "text": [
      "BasicClass - Opencv Version: 3.2.0-dev\n"
     ]
    }
   ],
   "source": [
    "# Used class developed by RoboFEI-HT\n",
    "sys.path.append('../../Blackboard/src') #debug-iPython\n",
    "from BasicThread import * # Base class with primary functions\n",
    "from Servo import * #"
   ]
  },
  {
   "cell_type": "markdown",
   "metadata": {},
   "source": [
    "# Class HeadControl\n",
    ".\n",
    "doxygen-iPython"
   ]
  },
  {
   "cell_type": "code",
   "execution_count": 4,
   "metadata": {
    "collapsed": true
   },
   "outputs": [],
   "source": [
    "#des-iPython class HeadControl(BasicThread):\n",
    "#ini-tab -> Iniciando código classe"
   ]
  },
  {
   "cell_type": "markdown",
   "metadata": {},
   "source": [
    "---- Variables ----"
   ]
  },
  {
   "cell_type": "markdown",
   "metadata": {},
   "source": [
    "# motor\n",
    ".\n",
    "doxygen-iPython"
   ]
  },
  {
   "cell_type": "code",
   "execution_count": 11,
   "metadata": {
    "collapsed": true
   },
   "outputs": [],
   "source": [
    "__motor = { #self-iPython __motor\n",
    "    'ID Pan': 19,\n",
    "    'ID Tilt': 20,\n",
    "    'Maximum Torque': 34,\n",
    "    'Goal Position': 30, \n",
    "    'Present Position': 36,\n",
    "}"
   ]
  },
  {
   "cell_type": "markdown",
   "metadata": {},
   "source": [
    "# head\n",
    ".\n",
    "doxygen-iPython"
   ]
  },
  {
   "cell_type": "code",
   "execution_count": 7,
   "metadata": {
    "collapsed": true
   },
   "outputs": [],
   "source": [
    "__head = None #self-iPython __head"
   ]
  },
  {
   "cell_type": "markdown",
   "metadata": {},
   "source": [
    "# observation\n",
    ".\n",
    "doxygen-iPython"
   ]
  },
  {
   "cell_type": "code",
   "execution_count": 8,
   "metadata": {
    "collapsed": true
   },
   "outputs": [],
   "source": [
    "__observation = None #self-iPython __observation"
   ]
  },
  {
   "cell_type": "code",
   "execution_count": 9,
   "metadata": {
    "collapsed": true
   },
   "outputs": [],
   "source": [
    "#ini-iPython ------- Lista de funções herdadas\n",
    "\n",
    "# --------------- Lista de funções ---------------\n",
    "\n",
    "# --------------- Lista variaveis herdadas ---------------\n",
    "\n",
    "#self-iPython _running\n",
    "#self-iPython _confini\n",
    "\n",
    "class test1:\n",
    "    def read_float(self, name):\n",
    "        return 0\n",
    "    def read_int(self, name):\n",
    "        return 0\n",
    "\n",
    "_bkb = test1() #self-iPython _bkb\n",
    "\n",
    "class test:\n",
    "    camera = True\n",
    "\n",
    "_args = test() #self-iPython _args\n",
    "\n",
    "# --------------- Lista variaveis ---------------\n",
    "\n",
    "\n",
    "\n",
    "#end-iPython - Fim listas"
   ]
  },
  {
   "cell_type": "markdown",
   "metadata": {},
   "source": [
    "# Constructor Class\n",
    "doxygen-iPython"
   ]
  },
  {
   "cell_type": "code",
   "execution_count": 10,
   "metadata": {
    "collapsed": false
   },
   "outputs": [
    {
     "name": "stdout",
     "output_type": "stream",
     "text": [
      "Start the Class Servo\n"
     ]
    },
    {
     "ename": "NameError",
     "evalue": "global name 'VisionException' is not defined",
     "output_type": "error",
     "traceback": [
      "\u001b[0;31m---------------------------------------------------------------------------\u001b[0m",
      "\u001b[0;31mNameError\u001b[0m                                 Traceback (most recent call last)",
      "\u001b[0;32m<ipython-input-10-7417b84f3aa6>\u001b[0m in \u001b[0;36m<module>\u001b[0;34m()\u001b[0m\n\u001b[1;32m     12\u001b[0m     }\n\u001b[1;32m     13\u001b[0m \u001b[0;34m\u001b[0m\u001b[0m\n\u001b[0;32m---> 14\u001b[0;31m \u001b[0m__head\u001b[0m \u001b[0;34m=\u001b[0m \u001b[0mServo\u001b[0m\u001b[0;34m(\u001b[0m\u001b[0m__observation\u001b[0m\u001b[0;34m[\u001b[0m\u001b[0;34m'center_tilt'\u001b[0m\u001b[0;34m]\u001b[0m\u001b[0;34m,\u001b[0m \u001b[0m__observation\u001b[0m\u001b[0;34m[\u001b[0m\u001b[0;34m'center_pan'\u001b[0m\u001b[0;34m]\u001b[0m\u001b[0;34m)\u001b[0m\u001b[0;34m\u001b[0m\u001b[0m\n\u001b[0m\u001b[1;32m     15\u001b[0m \u001b[0;31m#des-iPython self.start()\u001b[0m\u001b[0;34m\u001b[0m\u001b[0;34m\u001b[0m\u001b[0m\n",
      "\u001b[0;32m/home/vinicius/Dropbox/Projeto Mestrado/Codigos/RoboFEI-HT_Debug/AI/Vision/iPython/Servo.py\u001b[0m in \u001b[0;36m__init__\u001b[0;34m(self, posTILT, posPAN)\u001b[0m\n\u001b[1;32m     29\u001b[0m                 \u001b[0;32mif\u001b[0m \u001b[0mself\u001b[0m\u001b[0;34m.\u001b[0m\u001b[0m__visionlib\u001b[0m\u001b[0;34m.\u001b[0m\u001b[0minitServo\u001b[0m\u001b[0;34m(\u001b[0m\u001b[0mctypes\u001b[0m\u001b[0;34m.\u001b[0m\u001b[0mc_int\u001b[0m\u001b[0;34m(\u001b[0m\u001b[0mposTILT\u001b[0m\u001b[0;34m)\u001b[0m\u001b[0;34m,\u001b[0m \u001b[0mctypes\u001b[0m\u001b[0;34m.\u001b[0m\u001b[0mc_int\u001b[0m\u001b[0;34m(\u001b[0m\u001b[0mposPAN\u001b[0m\u001b[0;34m)\u001b[0m\u001b[0;34m)\u001b[0m\u001b[0;34m:\u001b[0m\u001b[0;34m\u001b[0m\u001b[0m\n\u001b[1;32m     30\u001b[0m                         \u001b[0;31m# Error treatament, if not connected to servos exit(0)\u001b[0m\u001b[0;34m\u001b[0m\u001b[0;34m\u001b[0m\u001b[0m\n\u001b[0;32m---> 31\u001b[0;31m                         \u001b[0;32mraise\u001b[0m \u001b[0mVisionException\u001b[0m\u001b[0;34m(\u001b[0m\u001b[0;36m3\u001b[0m\u001b[0;34m,\u001b[0m \u001b[0;34m''\u001b[0m\u001b[0;34m)\u001b[0m\u001b[0;34m\u001b[0m\u001b[0m\n\u001b[0m\u001b[1;32m     32\u001b[0m \u001b[0;34m\u001b[0m\u001b[0m\n\u001b[1;32m     33\u001b[0m                 \u001b[0;31m# Define return type of the method dxlReadByte (int)\u001b[0m\u001b[0;34m\u001b[0m\u001b[0;34m\u001b[0m\u001b[0m\n",
      "\u001b[0;31mNameError\u001b[0m: global name 'VisionException' is not defined"
     ]
    }
   ],
   "source": [
    "#des-iPython def __init__(self, arg):\n",
    "#ini-tab -> Iniciando código construtor\n",
    "#edes-iPython super(HeadControl, self).__init__(arg, 'Head' , 'parameters')\n",
    "_confini = ConfigIni('Head' , 'parameters')\n",
    "\n",
    "__observation = _confini.read()\n",
    "if __observation is -1:\n",
    "    __observation = {\n",
    "        'frequency': 1000,\n",
    "        'center_pan': 512,\n",
    "        'center_tilt': 310,\n",
    "    }\n",
    "\n",
    "__head = Servo(__observation['center_tilt'], __observation['center_pan'])\n",
    "_bkb.write_int('DECISION_LOCALIZATION', -999)\n",
    "#des-iPython self.start()"
   ]
  },
  {
   "cell_type": "code",
   "execution_count": null,
   "metadata": {
    "collapsed": true
   },
   "outputs": [],
   "source": [
    "#end-tab -> Fim construtor"
   ]
  },
  {
   "cell_type": "code",
   "execution_count": null,
   "metadata": {
    "collapsed": true
   },
   "outputs": [],
   "source": [
    "#ini-iPython"
   ]
  },
  {
   "cell_type": "markdown",
   "metadata": {},
   "source": [
    "## Teste construtor"
   ]
  },
  {
   "cell_type": "code",
   "execution_count": null,
   "metadata": {
    "collapsed": true
   },
   "outputs": [],
   "source": [
    "#end-iPython"
   ]
  },
  {
   "cell_type": "markdown",
   "metadata": {
    "collapsed": true
   },
   "source": [
    "# run\n",
    ".\n",
    "doxygen-iPython"
   ]
  },
  {
   "cell_type": "code",
   "execution_count": null,
   "metadata": {
    "collapsed": true
   },
   "outputs": [],
   "source": [
    "#edes-iPython def run(self):\n",
    "def run( ):\n",
    "    _running = True\n",
    "    while _running:\n",
    "        value = _bkb.read_int('DECISION_LOCALIZATION')\n",
    "        print 'value:', value \n",
    "        if value == -999:\n",
    "            __head.writeWord(\n",
    "                __motor['ID Pan'],\n",
    "                __motor['Goal Position'],\n",
    "                __observation['center_pan']\n",
    "            )\n",
    "            __head.writeWord(\n",
    "                __motor['ID Tilt'],\n",
    "                __motor['Goal Position'],\n",
    "                __observation['center_tilt']\n",
    "            )\n",
    "        else:\n",
    "            __head.writeWord(\n",
    "                __motor['ID Pan'],\n",
    "                __motor['Goal Position'],\n",
    "                __observation['center_pan']-(value*1023)/300\n",
    "            )\n",
    "            __head.writeWord(\n",
    "                __motor['ID Tilt'],\n",
    "                __motor['Goal Position'],\n",
    "                __observation['center_tilt']\n",
    "            )\n",
    "         \n",
    "        _bkb.write_float(\n",
    "            'VISION_PAN_DEG',\n",
    "            (__observation['center_pan'] - __head.readWord(\n",
    "                    __motor['ID Pan'],\n",
    "                    __motor['Present Position']\n",
    "                )\n",
    "            )*300.0/1023\n",
    "        )\n",
    "        time.sleep(1.0/__observation['frequency'])"
   ]
  },
  {
   "cell_type": "markdown",
   "metadata": {
    "collapsed": true
   },
   "source": [
    "# finalize\n",
    ".\n",
    "doxygen-iPython"
   ]
  },
  {
   "cell_type": "code",
   "execution_count": null,
   "metadata": {
    "collapsed": true
   },
   "outputs": [],
   "source": [
    "#edes-iPython def finalize(self):\n",
    "def finalize( ):\n",
    "    _running = False\n",
    "    #des-iPython self.join()\n",
    "    #des-iPython super(HeadControl, self).finalize(__observation)"
   ]
  },
  {
   "cell_type": "code",
   "execution_count": null,
   "metadata": {
    "collapsed": true
   },
   "outputs": [],
   "source": []
  },
  {
   "cell_type": "code",
   "execution_count": null,
   "metadata": {
    "collapsed": true
   },
   "outputs": [],
   "source": [
    "#end-tab -> Fim código classe"
   ]
  }
 ],
 "metadata": {
  "kernelspec": {
   "display_name": "Python 2",
   "language": "python",
   "name": "python2"
  },
  "language_info": {
   "codemirror_mode": {
    "name": "ipython",
    "version": 2
   },
   "file_extension": ".py",
   "mimetype": "text/x-python",
   "name": "python",
   "nbconvert_exporter": "python",
   "pygments_lexer": "ipython2",
   "version": "2.7.6"
  }
 },
 "nbformat": 4,
 "nbformat_minor": 1
}
