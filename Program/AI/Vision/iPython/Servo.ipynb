{
 "cells": [
  {
   "cell_type": "code",
   "execution_count": null,
   "metadata": {
    "collapsed": true
   },
   "outputs": [],
   "source": [
    "import ctypes"
   ]
  },
  {
   "cell_type": "code",
   "execution_count": null,
   "metadata": {
    "collapsed": true
   },
   "outputs": [],
   "source": [
    "from VisionException import * #"
   ]
  },
  {
   "cell_type": "markdown",
   "metadata": {},
   "source": [
    "# Describes Class Servo - Communicate, Write and read from Vision Servo-motors"
   ]
  },
  {
   "cell_type": "code",
   "execution_count": null,
   "metadata": {
    "collapsed": true
   },
   "outputs": [],
   "source": [
    "#des-iPython class Servo(object):\n",
    "#ini-tab -> Inicio classe"
   ]
  },
  {
   "cell_type": "markdown",
   "metadata": {},
   "source": [
    "# visionlib\n",
    ".\n",
    "doxygen-iPython"
   ]
  },
  {
   "cell_type": "code",
   "execution_count": null,
   "metadata": {
    "collapsed": true
   },
   "outputs": [],
   "source": [
    "__visionlib = None #self-iPython __visionlib"
   ]
  },
  {
   "cell_type": "markdown",
   "metadata": {},
   "source": [
    "# Constructor Class\n",
    "Initializes the communication with the servos.\n",
    "doxygen-iPython"
   ]
  },
  {
   "cell_type": "code",
   "execution_count": null,
   "metadata": {
    "collapsed": false
   },
   "outputs": [],
   "source": [
    "#des-iPython def __init__(self,posTILT,posPAN):\n",
    "#ini-tab -> Inicio construtor\n",
    "print 'Start the Class Servo'\n",
    "\n",
    "# Using shared memory from C++ functions\n",
    "# Loads Vision library in the path /build/lib/libvision.so (Needs compilation and build)\n",
    "ctypes.cdll.LoadLibrary('../build/lib/libvision.so')\n",
    "\n",
    "# Calls lybrary that contains C++ functions\n",
    "__visionlib = ctypes.CDLL('../build/lib/libvision.so') \n",
    "\n",
    "# Defines return type (boolean)\n",
    "__visionlib.initServo.restype = ctypes.c_bool \n",
    "\n",
    "# Conects to Pan and tilt servos\n",
    "if __visionlib.initServo(ctypes.c_int(posTILT), ctypes.c_int(posPAN)):\n",
    "    # Error treatament, if not connected to servos exit(0)\n",
    "    raise VisionException(4, '')\n",
    "\n",
    "# Define return type of the method dxlReadByte (int)\n",
    "__visionlib.dxlReadByte.restype = ctypes.c_int \n",
    "\n",
    "# Define return type of the method dxlReadWord (int)\n",
    "__visionlib.dxlReadWord.restype = ctypes.c_int \n",
    "\n",
    "# Define initial torque with 50% to servo ID=20, parameter 34 seted with 512\n",
    "__visionlib.dxlWriteWord(ctypes.c_int(20), ctypes.c_int(34), ctypes.c_int(512)); \n",
    "\n",
    "# Define initial torque with 50% to servo ID=19, parameter 34 seted with 512\n",
    "__visionlib.dxlWriteWord(ctypes.c_int(19), ctypes.c_int(34), ctypes.c_int(512)); "
   ]
  },
  {
   "cell_type": "code",
   "execution_count": null,
   "metadata": {
    "collapsed": true
   },
   "outputs": [],
   "source": [
    "#end-tab -> Fim construtor"
   ]
  },
  {
   "cell_type": "markdown",
   "metadata": {},
   "source": [
    "# readByte\n",
    "Reads a byte from servo defined by ID.\n",
    "doxygen-iPython"
   ]
  },
  {
   "cell_type": "code",
   "execution_count": null,
   "metadata": {
    "collapsed": true
   },
   "outputs": [],
   "source": [
    "#edes-iPython def readByte(self, ID, Pos):\n",
    "def readByte(ID, Pos):\n",
    "    # Returns a byte from servo defined by ID in pos position\n",
    "    return __visionlib.dxlReadByte( ctypes.c_int(ID), ctypes.c_int(Pos))"
   ]
  },
  {
   "cell_type": "markdown",
   "metadata": {},
   "source": [
    "# readWord\n",
    "Reads a word from servo defined by ID.\n",
    "doxygen-iPython"
   ]
  },
  {
   "cell_type": "code",
   "execution_count": null,
   "metadata": {
    "collapsed": true
   },
   "outputs": [],
   "source": [
    "#edes-iPython def readWord(self, ID, Pos):\n",
    "def readWord(ID, Pos):\n",
    "    # Returns a word from servo defined by ID in pos position\n",
    "    return __visionlib.dxlReadWord( ctypes.c_int(ID), ctypes.c_int(Pos))"
   ]
  },
  {
   "cell_type": "markdown",
   "metadata": {},
   "source": [
    "# writeByte\n",
    "Writes a byte from servo defined by ID.\n",
    "doxygen-iPython"
   ]
  },
  {
   "cell_type": "code",
   "execution_count": null,
   "metadata": {
    "collapsed": true
   },
   "outputs": [],
   "source": [
    "#edes-iPython def writeByte(self, ID, Pos, value):\n",
    "def writeByte(ID, Pos, value):\n",
    "    # Writes a byte in servo ID, Position Pos, and the value to be written\n",
    "    __visionlib.dxlWriteByte( ctypes.c_int(ID), ctypes.c_int(Pos), ctypes.c_int(value))"
   ]
  },
  {
   "cell_type": "markdown",
   "metadata": {},
   "source": [
    "# writeWord\n",
    "Writes a word from servo defined by ID.\n",
    "doxygen-iPython"
   ]
  },
  {
   "cell_type": "code",
   "execution_count": null,
   "metadata": {
    "collapsed": true
   },
   "outputs": [],
   "source": [
    "#edes-iPython def writeWord(self, ID, Pos, value):\n",
    "def writeWord(ID, Pos, value):\n",
    "    # Writes a word in servo ID, Position Pos, and the value to be written\n",
    "    __visionlib.dxlWriteWord( ctypes.c_int(ID), ctypes.c_int(Pos), ctypes.c_int(value))"
   ]
  },
  {
   "cell_type": "code",
   "execution_count": null,
   "metadata": {
    "collapsed": true
   },
   "outputs": [],
   "source": [
    "#end-tab -> Fim classe"
   ]
  }
 ],
 "metadata": {
  "kernelspec": {
   "display_name": "Python 2",
   "language": "python",
   "name": "python2"
  },
  "language_info": {
   "codemirror_mode": {
    "name": "ipython",
    "version": 2
   },
   "file_extension": ".py",
   "mimetype": "text/x-python",
   "name": "python",
   "nbconvert_exporter": "python",
   "pygments_lexer": "ipython2",
   "version": "2.7.6"
  }
 },
 "nbformat": 4,
 "nbformat_minor": 1
}
